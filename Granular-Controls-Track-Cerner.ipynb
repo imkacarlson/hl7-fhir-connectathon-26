{
 "cells": [
  {
   "cell_type": "code",
   "execution_count": 2,
   "metadata": {},
   "outputs": [],
   "source": [
    "import requests"
   ]
  },
  {
   "cell_type": "markdown",
   "metadata": {},
   "source": [
    "# Using a Cerner Test Server"
   ]
  },
  {
   "cell_type": "code",
   "execution_count": 35,
   "metadata": {},
   "outputs": [],
   "source": [
    "CERNER_BASE_URL = \"https://fhir-myrecord.stagingcerner.com/beta/ec2458f2-1e24-41c8-b71b-0e701af7583d/\"\n",
    "NANCY_PATIENT_ID = \"12724066\""
   ]
  },
  {
   "cell_type": "markdown",
   "metadata": {},
   "source": [
    "## Scenario 0"
   ]
  },
  {
   "cell_type": "code",
   "execution_count": 4,
   "metadata": {},
   "outputs": [],
   "source": [
    "DISCOVERY_PATH = \".well-known/smart-configuration\""
   ]
  },
  {
   "cell_type": "code",
   "execution_count": 5,
   "metadata": {},
   "outputs": [],
   "source": [
    "headers = {\"Accept\" : \"application/fhir+json\"}\n",
    "cerner_config = requests.get(CERNER_BASE_URL + DISCOVERY_PATH, headers=headers).json()"
   ]
  },
  {
   "cell_type": "markdown",
   "metadata": {},
   "source": [
    "Payload includes `permission_v2` and `authorize-post` capabilities ✔️:"
   ]
  },
  {
   "cell_type": "code",
   "execution_count": 6,
   "metadata": {},
   "outputs": [
    {
     "data": {
      "text/plain": [
       "['launch-ehr',\n",
       " 'launch-standalone',\n",
       " 'client-public',\n",
       " 'client-confidential-symmetric',\n",
       " 'sso-openid-connect',\n",
       " 'context-banner',\n",
       " 'context-style',\n",
       " 'context-standalone-patient',\n",
       " 'context-ehr-patient',\n",
       " 'permission-patient',\n",
       " 'permission-user',\n",
       " 'permission-offline',\n",
       " 'permission-v2',\n",
       " 'authorize-post']"
      ]
     },
     "execution_count": 6,
     "metadata": {},
     "output_type": "execute_result"
    }
   ],
   "source": [
    "cerner_config[\"capabilities\"]"
   ]
  },
  {
   "cell_type": "markdown",
   "metadata": {},
   "source": [
    "`code_challenge_methods_supported` includes `S256` ✔️:"
   ]
  },
  {
   "cell_type": "code",
   "execution_count": 7,
   "metadata": {},
   "outputs": [
    {
     "data": {
      "text/plain": [
       "['S256']"
      ]
     },
     "execution_count": 7,
     "metadata": {},
     "output_type": "execute_result"
    }
   ],
   "source": [
    "cerner_config[\"code_challenge_methods_supported\"]"
   ]
  },
  {
   "cell_type": "markdown",
   "metadata": {},
   "source": [
    "`introscpection_endpoint` included ✔️:"
   ]
  },
  {
   "cell_type": "code",
   "execution_count": 8,
   "metadata": {},
   "outputs": [
    {
     "data": {
      "text/plain": [
       "'https://authorization.cerner.com/tokeninfo'"
      ]
     },
     "execution_count": 8,
     "metadata": {},
     "output_type": "execute_result"
    }
   ],
   "source": [
    "cerner_config[\"introspection_endpoint\"]"
   ]
  },
  {
   "cell_type": "markdown",
   "metadata": {},
   "source": [
    "## Scenario 1"
   ]
  },
  {
   "cell_type": "code",
   "execution_count": 32,
   "metadata": {},
   "outputs": [
    {
     "name": "stdout",
     "output_type": "stream",
     "text": [
      "Navigate to:  https://authorization.cerner.com/tenants/ec2458f2-1e24-41c8-b71b-0e701af7583d/protocols/oauth2/profiles/smart-v1/personas/patient/authorize?client_id=09a2a7f5-68b6-451a-b5dc-547889cf63b4&response_type=code&scope=patient/Observation.read%20patient/Observation.rs%20patient/Observation.crs&redirect_uri=http://localhost:8080/index.html&aud=https%3A%2F%2Ffhir-myrecord.cerner.com%2Fr4%2Fec2458f2-1e24-41c8-b71b-0e701af7583d\n",
      "\n",
      "authz code: ca1f126c-2d25-4229-89d2-16a556d1559d\n",
      "\n",
      "Scopes Granted: patient/Observation.read patient/Observation.rs patient/Observation.crs\n"
     ]
    }
   ],
   "source": [
    "authorize_url = cerner_config[\"authorization_endpoint\"]\n",
    "token_url = cerner_config[\"token_endpoint\"]\n",
    "\n",
    "redirect_uri = \"http://localhost:8080/index.html\"\n",
    "\n",
    "f = open(\"CERNER_CLIENT_ID.txt\", \"r\")\n",
    "client_id = f.read()\n",
    "f.close()\n",
    "\n",
    "aud = \"https%3A%2F%2Ffhir-myrecord.cerner.com%2Fr4%2Fec2458f2-1e24-41c8-b71b-0e701af7583d\"\n",
    "\n",
    "scopes = \"patient/Observation.read%20patient/Observation.rs%20patient/Observation.crs\"\n",
    "\n",
    "authorization_redirect_url = \"{}?client_id={}&response_type=code&scope={}&redirect_uri={}&aud={}\".format(authorize_url, \n",
    "                                                                                                  client_id, \n",
    "                                                                                                  scopes, \n",
    "                                                                                                  redirect_uri,\n",
    "                                                                                                  aud)\n",
    "    \n",
    "print(\"Navigate to: \", authorization_redirect_url + \"\\n\")\n",
    "\n",
    "authorization_code = input('authz code: ')\n",
    "\n",
    "headers = {'Content-Type': 'application/x-www-form-urlencoded', 'Accept': 'application/json'}\n",
    "data = {'grant_type': 'authorization_code', 'code': authorization_code, 'redirect_uri': redirect_uri, 'client_id': client_id}\n",
    "access_token_response = requests.post(token_url, data=data, headers=headers)\n",
    "\n",
    "print(\"\\nScopes Granted: \" + access_token_response.json()['scope'])"
   ]
  },
  {
   "cell_type": "markdown",
   "metadata": {},
   "source": [
    "Request `Observation`'s for a specific patient ✔️:"
   ]
  },
  {
   "cell_type": "code",
   "execution_count": 36,
   "metadata": {},
   "outputs": [
    {
     "name": "stdout",
     "output_type": "stream",
     "text": [
      "{\"resourceType\":\"Bundle\",\"id\":\"f24d921d-b666-4ac1-b632-93a238ed2a55\",\"type\":\"searchset\",\"link\":[{\"relation\":\"self\",\"url\":\"https://fhir-myrecord.stagingcerner.com/beta/ec2458f2-1e24-41c8-b71b-0e701af7583d/Observation?patient=12724066\"},{\"relation\":\"next\",\"url\":\"https://fhir-myrecord.stagingcerner.com/beta/ec2458f2-1e24-41c8-b71b-0e701af7583d/Observation?patient=12724066\\u0026-pageContext=T3BlblBsYXRmb3JtRmhpckNvbnRleHQ9dHJ1ZSZwYWdlQ29udGV4dD05ZWQ4Y2I4MC1hYTc4LTQ0Y2QtYTEyNC0yYTg0ZDRhZWMyMDImY29uY2VwdD1jaGFydGVkX29ic2VydmF0aW9u\\u0026-pageDirection=NEXT\"}],\"entry\":[{\"fullUrl\":\"https://fhir-myrecord.stagingcerner.com/beta/ec2458f2-1e24-41c8-b71b-0e701af7583d/Observation/SH-1-73080191\",\"resource\":{\"resourceType\":\"Observation\",\"id\":\"SH-1-73080191\",\"meta\":{\"versionId\":\"73080191\",\"lastUpdated\":\"2020-06-11T04:05:33.000Z\"},\"text\":{\"status\":\"generated\",\"div\":\"\\u003Cdiv xmlns=\\\"http://www.w3.org/1999/xhtml\\\"\\u003E\\u003Cp\\u003E\\u003Cb\\u003EObservation\\u003C/b\\u003E\\u003C/p\\u003E\\u003Cp\\u003E\\u003Cb\\u003EPatient Id\\u003C/b\\u003E: 12724066\\u003C/p\\u003E\\u003Cp\\u003E\\u003Cb\\u003EStatus\\u003C/b\\u003E: Final\\u003C/p\\u003E\\u003Cp\\u003E\\u003Cb\\u003ECategories\\u003C/b\\u003E: Social History\\u003C/p\\u003E\\u003Cp\\u003E\\u003Cb\\u003ECode\\u003C/b\\u003E: Alcohol\\u003C/p\\u003E\\u003Cp\\u003E\\u003Cb\\u003EIssued Date\\u003C/b\\u003E: Jun 11, 2020  4:05 A.M. UTC\\u003C/p\\u003E\\u003C/div\\u003E\"},\"status\":\"final\",\"category\":[{\"coding\":[{\"system\":\"http://terminology.hl7.org/CodeSystem/observation-category\",\"code\":\"social-history\",\"display\":\"Social History\"}],\"text\":\"Social History\"}],\"code\":{\"coding\":[{\"system\":\"http://snomed.info/sct\",\"code\":\"363905002\",\"display\":\"Details of alcohol drinking behavior (observable entity)\"}],\"text\":\"Alcohol\"},\"subject\":{\"reference\":\"Patient/12724066\"},\"issued\":\"2020-06-11T04:05:33.000Z\",\"hasMember\":[{\"reference\":\"Observation/SH-73080191-q4625817\"},{\"reference\":\"Observation/SH-73080191-q4625813\"}]},\"search\":{\"mode\":\"match\"}},{\"fullUrl\":\"https://fhir-myrecord.stagingcerner.com/beta/ec2458f2-1e24-41c8-b71b-0e701af7583d/Observation/SH-73080191-q4625817\",\"resource\":{\"resourceType\":\"Observation\",\"id\":\"SH-73080191-q4625817\",\"meta\":{\"versionId\":\"73080191\",\"lastUpdated\":\"2020-06-11T04:05:33.000Z\"},\"text\":{\"status\":\"generated\",\"div\":\"\\u003Cdiv xmlns=\\\"http://www.w3.org/1999/xhtml\\\"\\u003E\\u003Cp\\u003E\\u003Cb\\u003EObservation\\u003C/b\\u003E\\u003C/p\\u003E\\u003Cp\\u003E\\u003Cb\\u003EPatient Id\\u003C/b\\u003E: 12724066\\u003C/p\\u003E\\u003Cp\\u003E\\u003Cb\\u003EStatus\\u003C/b\\u003E: Final\\u003C/p\\u003E\\u003Cp\\u003E\\u003Cb\\u003ECategories\\u003C/b\\u003E: Social History\\u003C/p\\u003E\\u003Cp\\u003E\\u003Cb\\u003EQuestion\\u003C/b\\u003E: SHX Alcohol use\\u003C/p\\u003E\\u003Cp\\u003E\\u003Cb\\u003EResponse\\u003C/b\\u003E: Past\\u003C/p\\u003E\\u003Cp\\u003E\\u003Cb\\u003EIssued Date\\u003C/b\\u003E: Jun 11, 2020  4:05 A.M. UTC\\u003C/p\\u003E\\u003C/div\\u003E\"},\"status\":\"final\",\"category\":[{\"coding\":[{\"system\":\"http://terminology.hl7.org/CodeSystem/observation-category\",\"code\":\"social-history\",\"display\":\"Social History\"}],\"text\":\"Social History\"}],\"code\":{\"coding\":[{\"system\":\"http://snomed.info/sct\",\"code\":\"363905002\",\"display\":\"Details of alcohol drinking behavior (observable entity)\"}],\"text\":\"SHX Alcohol use\"},\"subject\":{\"reference\":\"Patient/12724066\"},\"issued\":\"2020-06-11T04:05:33.000Z\",\"valueCodeableConcept\":{\"coding\":[{\"system\":\"http://snomed.info/sct\",\"code\":\"410513005\",\"display\":\"In the past (qualifier value)\"}],\"text\":\"Past\"}},\"search\":{\"mode\":\"match\"}},{\"fullUrl\":\"https://fhir-myrecord.stagingcerner.com/beta/ec2458f2-1e24-41c8-b71b-0e701af7583d/Observation/SH-73080191-q4625813\",\"resource\":{\"resourceType\":\"Observation\",\"id\":\"SH-73080191-q4625813\",\"meta\":{\"versionId\":\"73080191\",\"lastUpdated\":\"2020-06-11T04:05:33.000Z\"},\"text\":{\"status\":\"generated\",\"div\":\"\\u003Cdiv xmlns=\\\"http://www.w3.org/1999/xhtml\\\"\\u003E\\u003Cp\\u003E\\u003Cb\\u003EObservation\\u003C/b\\u003E\\u003C/p\\u003E\\u003Cp\\u003E\\u003Cb\\u003EPatient Id\\u003C/b\\u003E: 12724066\\u003C/p\\u003E\\u003Cp\\u003E\\u003Cb\\u003EStatus\\u003C/b\\u003E: Final\\u003C/p\\u003E\\u003Cp\\u003E\\u003Cb\\u003ECategories\\u003C/b\\u003E: Social History\\u003C/p\\u003E\\u003Cp\\u003E\\u003Cb\\u003EQuestion\\u003C/b\\u003E: SHX Alcohol type\\u003C/p\\u003E\\u003Cp\\u003E\\u003Cb\\u003EResponse\\u003C/b\\u003E: Liquor\\u003C/p\\u003E\\u003Cp\\u003E\\u003Cb\\u003EIssued Date\\u003C/b\\u003E: Jun 11, 2020  4:05 A.M. UTC\\u003C/p\\u003E\\u003C/div\\u003E\"},\"status\":\"final\",\"category\":[{\"coding\":[{\"system\":\"http://terminology.hl7.org/CodeSystem/observation-category\",\"code\":\"social-history\",\"display\":\"Social History\"}],\"text\":\"Social History\"}],\"code\":{\"coding\":[{\"system\":\"http://snomed.info/sct\",\"code\":\"363905002\",\"display\":\"Details of alcohol drinking behavior (observable entity)\"}],\"text\":\"SHX Alcohol type\"},\"subject\":{\"reference\":\"Patient/12724066\"},\"issued\":\"2020-06-11T04:05:33.000Z\",\"valueCodeableConcept\":{\"coding\":[{\"system\":\"http://snomed.info/sct\",\"code\":\"6524003\",\"display\":\"Distilled spirits (substance)\"}],\"text\":\"Liquor\"}},\"search\":{\"mode\":\"match\"}},{\"fullUrl\":\"https://fhir-myrecord.stagingcerner.com/beta/ec2458f2-1e24-41c8-b71b-0e701af7583d/Observation/SH-33-73095605\",\"resource\":{\"resourceType\":\"Observation\",\"id\":\"SH-33-73095605\",\"meta\":{\"versionId\":\"73095605\",\"lastUpdated\":\"2020-09-23T22:12:50.000Z\"},\"text\":{\"status\":\"generated\",\"div\":\"\\u003Cdiv xmlns=\\\"http://www.w3.org/1999/xhtml\\\"\\u003E\\u003Cp\\u003E\\u003Cb\\u003EObservation\\u003C/b\\u003E\\u003C/p\\u003E\\u003Cp\\u003E\\u003Cb\\u003EPatient Id\\u003C/b\\u003E: 12724066\\u003C/p\\u003E\\u003Cp\\u003E\\u003Cb\\u003EStatus\\u003C/b\\u003E: Final\\u003C/p\\u003E\\u003Cp\\u003E\\u003Cb\\u003ECategories\\u003C/b\\u003E: Social History\\u003C/p\\u003E\\u003Cp\\u003E\\u003Cb\\u003ECode\\u003C/b\\u003E: Home/Environment\\u003C/p\\u003E\\u003Cp\\u003E\\u003Cb\\u003EIssued Date\\u003C/b\\u003E: Sep 23, 2020 10:12 P.M. UTC\\u003C/p\\u003E\\u003C/div\\u003E\"},\"status\":\"final\",\"category\":[{\"coding\":[{\"system\":\"http://terminology.hl7.org/CodeSystem/observation-category\",\"code\":\"social-history\",\"display\":\"Social History\"}],\"text\":\"Social History\"}],\"code\":{\"coding\":[{\"system\":\"http://snomed.info/sct\",\"code\":\"4683004\",\"display\":\"Living condition (observable entity)\"}],\"text\":\"Home/Environment\"},\"subject\":{\"reference\":\"Patient/12724066\"},\"issued\":\"2020-09-23T22:12:50.000Z\",\"hasMember\":[{\"reference\":\"Observation/SH-73095605-q4625917\"},{\"reference\":\"Observation/SH-73095605-q705151\"},{\"reference\":\"Observation/SH-73095605-q4625929\"},{\"reference\":\"Observation/SH-73095605-q4625965\"},{\"reference\":\"Observation/SH-73095605-q4625973\"}]},\"search\":{\"mode\":\"match\"}},{\"fullUrl\":\"https://fhir-myrecord.stagingcerner.com/beta/ec2458f2-1e24-41c8-b71b-0e701af7583d/Observation/SH-73095605-q4625917\",\"resource\":{\"resourceType\":\"Observation\",\"id\":\"SH-73095605-q4625917\",\"meta\":{\"versionId\":\"73095605\",\"lastUpdated\":\"2020-09-23T22:12:50.000Z\"},\"text\":{\"status\":\"generated\",\"div\":\"\\u003Cdiv xmlns=\\\"http://www.w3.org/1999/xhtml\\\"\\u003E\\u003Cp\\u003E\\u003Cb\\u003EObservation\\u003C/b\\u003E\\u003C/p\\u003E\\u003Cp\\u003E\\u003Cb\\u003EPatient Id\\u003C/b\\u003E: 12724066\\u003C/p\\u003E\\u003Cp\\u003E\\u003Cb\\u003EStatus\\u003C/b\\u003E: Final\\u003C/p\\u003E\\u003Cp\\u003E\\u003Cb\\u003ECategories\\u003C/b\\u003E: Social History\\u003C/p\\u003E\\u003Cp\\u003E\\u003Cb\\u003EQuestion\\u003C/b\\u003E: SHX Home equipment\\u003C/p\\u003E\\u003Cp\\u003E\\u003Cb\\u003EResponse\\u003C/b\\u003E: Feeding tube\\u003C/p\\u003E\\u003Cp\\u003E\\u003Cb\\u003EIssued Date\\u003C/b\\u003E: Sep 23, 2020 10:12 P.M. UTC\\u003C/p\\u003E\\u003C/div\\u003E\"},\"status\":\"final\",\"category\":[{\"coding\":[{\"system\":\"http://terminology.hl7.org/CodeSystem/observation-category\",\"code\":\"social-history\",\"display\":\"Social History\"}],\"text\":\"Social History\"}],\"code\":{\"coding\":[{\"system\":\"http://snomed.info/sct\",\"code\":\"364697006\",\"display\":\"Equipment observable (observable entity)\"}],\"text\":\"SHX Home equipment\"},\"subject\":{\"reference\":\"Patient/12724066\"},\"issued\":\"2020-09-23T22:12:50.000Z\",\"valueCodeableConcept\":{\"coding\":[{\"system\":\"http://snomed.info/sct\",\"code\":\"25062003\",\"display\":\"Feeding tube, device (physical object)\"}],\"text\":\"Feeding tube\"}},\"search\":{\"mode\":\"match\"}},{\"fullUrl\":\"https://fhir-myrecord.stagingcerner.com/beta/ec2458f2-1e24-41c8-b71b-0e701af7583d/Observation/SH-73095605-q705151\",\"resource\":{\"resourceType\":\"Observation\",\"id\":\"SH-73095605-q705151\",\"meta\":{\"versionId\":\"73095605\",\"lastUpdated\":\"2020-09-23T22:12:50.000Z\"},\"text\":{\"status\":\"generated\",\"div\":\"\\u003Cdiv xmlns=\\\"http://www.w3.org/1999/xhtml\\\"\\u003E\\u003Cp\\u003E\\u003Cb\\u003EObservation\\u003C/b\\u003E\\u003C/p\\u003E\\u003Cp\\u003E\\u003Cb\\u003EPatient Id\\u003C/b\\u003E: 12724066\\u003C/p\\u003E\\u003Cp\\u003E\\u003Cb\\u003EStatus\\u003C/b\\u003E: Final\\u003C/p\\u003E\\u003Cp\\u003E\\u003Cb\\u003ECategories\\u003C/b\\u003E: Social History\\u003C/p\\u003E\\u003Cp\\u003E\\u003Cb\\u003EQuestion\\u003C/b\\u003E: SHX Special Services and Community Resources\\u003C/p\\u003E\\u003Cp\\u003E\\u003Cb\\u003EResponse\\u003C/b\\u003E: Meal delivery/preparation, Schooling, WIC\\u003C/p\\u003E\\u003Cp\\u003E\\u003Cb\\u003EIssued Date\\u003C/b\\u003E: Sep 23, 2020 10:12 P.M. UTC\\u003C/p\\u003E\\u003C/div\\u003E\"},\"status\":\"final\",\"category\":[{\"coding\":[{\"system\":\"http://terminology.hl7.org/CodeSystem/observation-category\",\"code\":\"social-history\",\"display\":\"Social History\"}],\"text\":\"Social History\"}],\"code\":{\"coding\":[{\"system\":\"http://snomed.info/sct\",\"code\":\"423514004\",\"display\":\"Community resource details (observable entity)\"}],\"text\":\"SHX Special Services and Community Resources\"},\"subject\":{\"reference\":\"Patient/12724066\"},\"issued\":\"2020-09-23T22:12:50.000Z\",\"component\":[{\"code\":{\"coding\":[{\"system\":\"http://snomed.info/sct\",\"code\":\"423514004\",\"display\":\"Community resource details (observable entity)\"}],\"text\":\"SHX Special Services and Community Resources\"},\"valueCodeableConcept\":{\"coding\":[{\"system\":\"http://snomed.info/sct\",\"code\":\"160778009\",\"display\":\"Meals on wheels (finding)\"}],\"text\":\"Meal delivery/preparation\"}},{\"code\":{\"coding\":[{\"system\":\"http://snomed.info/sct\",\"code\":\"423514004\",\"display\":\"Community resource details (observable entity)\"}],\"text\":\"SHX Special Services and Community Resources\"},\"valueCodeableConcept\":{\"coding\":[{\"system\":\"http://snomed.info/sct\",\"code\":\"365458002\",\"display\":\"Education and/or schooling finding (finding)\"}],\"text\":\"Schooling\"}},{\"code\":{\"coding\":[{\"system\":\"http://snomed.info/sct\",\"code\":\"423514004\",\"display\":\"Community resource details (observable entity)\"}],\"text\":\"SHX Special Services and Community Resources\"},\"valueCodeableConcept\":{\"coding\":[{\"system\":\"http://loinc.org\",\"code\":\"LA6650-1\"}],\"text\":\"WIC\"}}]},\"search\":{\"mode\":\"match\"}},{\"fullUrl\":\"https://fhir-myrecord.stagingcerner.com/beta/ec2458f2-1e24-41c8-b71b-0e701af7583d/Observation/SH-73095605-q4625929\",\"resource\":{\"resourceType\":\"Observation\",\"id\":\"SH-73095605-q4625929\",\"meta\":{\"versionId\":\"73095605\",\"lastUpdated\":\"2020-09-23T22:12:50.000Z\"},\"text\":{\"status\":\"generated\",\"div\":\"\\u003Cdiv xmlns=\\\"http://www.w3.org/1999/xhtml\\\"\\u003E\\u003Cp\\u003E\\u003Cb\\u003EObservation\\u003C/b\\u003E\\u003C/p\\u003E\\u003Cp\\u003E\\u003Cb\\u003EPatient Id\\u003C/b\\u003E: 12724066\\u003C/p\\u003E\\u003Cp\\u003E\\u003Cb\\u003EStatus\\u003C/b\\u003E: Final\\u003C/p\\u003E\\u003Cp\\u003E\\u003Cb\\u003ECategories\\u003C/b\\u003E: Social History\\u003C/p\\u003E\\u003Cp\\u003E\\u003Cb\\u003EQuestion\\u003C/b\\u003E: SHX Smoker in household\\u003C/p\\u003E\\u003Cp\\u003E\\u003Cb\\u003EResponse\\u003C/b\\u003E: No\\u003C/p\\u003E\\u003Cp\\u003E\\u003Cb\\u003EIssued Date\\u003C/b\\u003E: Sep 23, 2020 10:12 P.M. UTC\\u003C/p\\u003E\\u003C/div\\u003E\"},\"status\":\"final\",\"category\":[{\"coding\":[{\"system\":\"http://terminology.hl7.org/CodeSystem/observation-category\",\"code\":\"social-history\",\"display\":\"Social History\"}],\"text\":\"Social History\"}],\"code\":{\"coding\":[{\"system\":\"http://snomed.info/sct\",\"code\":\"228524006\",\"display\":\"Exposed to tobacco smoke at home (finding)\"}],\"text\":\"SHX Smoker in household\"},\"subject\":{\"reference\":\"Patient/12724066\"},\"issued\":\"2020-09-23T22:12:50.000Z\",\"valueCodeableConcept\":{\"coding\":[{\"system\":\"http://snomed.info/sct\",\"code\":\"373067005\",\"display\":\"No (qualifier value)\"}],\"text\":\"No\"}},\"search\":{\"mode\":\"match\"}},{\"fullUrl\":\"https://fhir-myrecord.stagingcerner.com/beta/ec2458f2-1e24-41c8-b71b-0e701af7583d/Observation/SH-73095605-q4625965\",\"resource\":{\"resourceType\":\"Observation\",\"id\":\"SH-73095605-q4625965\",\"meta\":{\"versionId\":\"73095605\",\"lastUpdated\":\"2020-09-23T22:12:50.000Z\"},\"text\":{\"status\":\"generated\",\"div\":\"\\u003Cdiv xmlns=\\\"http://www.w3.org/1999/xhtml\\\"\\u003E\\u003Cp\\u003E\\u003Cb\\u003EObservation\\u003C/b\\u003E\\u003C/p\\u003E\\u003Cp\\u003E\\u003Cb\\u003EPatient Id\\u003C/b\\u003E: 12724066\\u003C/p\\u003E\\u003Cp\\u003E\\u003Cb\\u003EStatus\\u003C/b\\u003E: Final\\u003C/p\\u003E\\u003Cp\\u003E\\u003Cb\\u003ECategories\\u003C/b\\u003E: Social History\\u003C/p\\u003E\\u003Cp\\u003E\\u003Cb\\u003EQuestion\\u003C/b\\u003E: SHX Religious restrictions\\u003C/p\\u003E\\u003Cp\\u003E\\u003Cb\\u003EResponse\\u003C/b\\u003E: Dietary restrictions\\u003C/p\\u003E\\u003Cp\\u003E\\u003Cb\\u003EIssued Date\\u003C/b\\u003E: Sep 23, 2020 10:12 P.M. UTC\\u003C/p\\u003E\\u003C/div\\u003E\"},\"status\":\"final\",\"category\":[{\"coding\":[{\"system\":\"http://terminology.hl7.org/CodeSystem/observation-category\",\"code\":\"social-history\",\"display\":\"Social History\"}],\"text\":\"Social History\"}],\"code\":{\"text\":\"SHX Religious restrictions\"},\"subject\":{\"reference\":\"Patient/12724066\"},\"issued\":\"2020-09-23T22:12:50.000Z\",\"valueCodeableConcept\":{\"text\":\"Dietary restrictions\"}},\"search\":{\"mode\":\"match\"}},{\"fullUrl\":\"https://fhir-myrecord.stagingcerner.com/beta/ec2458f2-1e24-41c8-b71b-0e701af7583d/Observation/SH-73095605-q4625973\",\"resource\":{\"resourceType\":\"Observation\",\"id\":\"SH-73095605-q4625973\",\"meta\":{\"versionId\":\"73095605\",\"lastUpdated\":\"2020-09-23T22:12:50.000Z\"},\"text\":{\"status\":\"generated\",\"div\":\"\\u003Cdiv xmlns=\\\"http://www.w3.org/1999/xhtml\\\"\\u003E\\u003Cp\\u003E\\u003Cb\\u003EObservation\\u003C/b\\u003E\\u003C/p\\u003E\\u003Cp\\u003E\\u003Cb\\u003EPatient Id\\u003C/b\\u003E: 12724066\\u003C/p\\u003E\\u003Cp\\u003E\\u003Cb\\u003EStatus\\u003C/b\\u003E: Final\\u003C/p\\u003E\\u003Cp\\u003E\\u003Cb\\u003ECategories\\u003C/b\\u003E: Social History\\u003C/p\\u003E\\u003Cp\\u003E\\u003Cb\\u003EQuestion\\u003C/b\\u003E: SHX Environment risks\\u003C/p\\u003E\\u003Cp\\u003E\\u003Cb\\u003EResponse\\u003C/b\\u003E: Pets/Animal exposure\\u003C/p\\u003E\\u003Cp\\u003E\\u003Cb\\u003EIssued Date\\u003C/b\\u003E: Sep 23, 2020 10:12 P.M. UTC\\u003C/p\\u003E\\u003C/div\\u003E\"},\"status\":\"final\",\"category\":[{\"coding\":[{\"system\":\"http://terminology.hl7.org/CodeSystem/observation-category\",\"code\":\"social-history\",\"display\":\"Social History\"}],\"text\":\"Social History\"}],\"code\":{\"coding\":[{\"system\":\"http://snomed.info/sct\",\"code\":\"712804001\",\"display\":\"Assessment of environmental risk (procedure)\"}],\"text\":\"SHX Environment risks\"},\"subject\":{\"reference\":\"Patient/12724066\"},\"issued\":\"2020-09-23T22:12:50.000Z\",\"valueCodeableConcept\":{\"text\":\"Pets/Animal exposure\"}},\"search\":{\"mode\":\"match\"}},{\"fullUrl\":\"https://fhir-myrecord.stagingcerner.com/beta/ec2458f2-1e24-41c8-b71b-0e701af7583d/Observation/SH-70-73095573\",\"resource\":{\"resourceType\":\"Observation\",\"id\":\"SH-70-73095573\",\"meta\":{\"versionId\":\"73095589\",\"lastUpdated\":\"2020-09-23T22:11:11.000Z\"},\"text\":{\"status\":\"generated\",\"div\":\"\\u003Cdiv xmlns=\\\"http://www.w3.org/1999/xhtml\\\"\\u003E\\u003Cp\\u003E\\u003Cb\\u003EObservation\\u003C/b\\u003E\\u003C/p\\u003E\\u003Cp\\u003E\\u003Cb\\u003EPatient Id\\u003C/b\\u003E: 12724066\\u003C/p\\u003E\\u003Cp\\u003E\\u003Cb\\u003EStatus\\u003C/b\\u003E: Final\\u003C/p\\u003E\\u003Cp\\u003E\\u003Cb\\u003ECategories\\u003C/b\\u003E: Social History\\u003C/p\\u003E\\u003Cp\\u003E\\u003Cb\\u003ECode\\u003C/b\\u003E: Sexual\\u003C/p\\u003E\\u003Cp\\u003E\\u003Cb\\u003EIssued Date\\u003C/b\\u003E: Sep 23, 2020 10:11 P.M. UTC\\u003C/p\\u003E\\u003C/div\\u003E\"},\"status\":\"final\",\"category\":[{\"coding\":[{\"system\":\"http://terminology.hl7.org/CodeSystem/observation-category\",\"code\":\"social-history\",\"display\":\"Social History\"}],\"text\":\"Social History\"}],\"code\":{\"coding\":[{\"system\":\"http://snomed.info/sct\",\"code\":\"363901006\",\"display\":\"Detail of sexuality and sexual activity (observable entity)\"}],\"text\":\"Sexual\"},\"subject\":{\"reference\":\"Patient/12724066\"},\"issued\":\"2020-09-23T22:11:11.000Z\",\"hasMember\":[{\"reference\":\"Observation/SH-73095573-q4626038\"},{\"reference\":\"Observation/SH-73095573-q4626042\"},{\"reference\":\"Observation/SH-73095573-q37125077\"}]},\"search\":{\"mode\":\"match\"}},{\"fullUrl\":\"https://fhir-myrecord.stagingcerner.com/beta/ec2458f2-1e24-41c8-b71b-0e701af7583d/Observation/SH-73095573-q4626038\",\"resource\":{\"resourceType\":\"Observation\",\"id\":\"SH-73095573-q4626038\",\"meta\":{\"versionId\":\"73095589\",\"lastUpdated\":\"2020-09-23T22:11:11.000Z\"},\"text\":{\"status\":\"generated\",\"div\":\"\\u003Cdiv xmlns=\\\"http://www.w3.org/1999/xhtml\\\"\\u003E\\u003Cp\\u003E\\u003Cb\\u003EObservation\\u003C/b\\u003E\\u003C/p\\u003E\\u003Cp\\u003E\\u003Cb\\u003EPatient Id\\u003C/b\\u003E: 12724066\\u003C/p\\u003E\\u003Cp\\u003E\\u003Cb\\u003EStatus\\u003C/b\\u003E: Final\\u003C/p\\u003E\\u003Cp\\u003E\\u003Cb\\u003ECategories\\u003C/b\\u003E: Social History\\u003C/p\\u003E\\u003Cp\\u003E\\u003Cb\\u003EQuestion\\u003C/b\\u003E: SHX Sexually active\\u003C/p\\u003E\\u003Cp\\u003E\\u003Cb\\u003EResponse\\u003C/b\\u003E: Yes\\u003C/p\\u003E\\u003Cp\\u003E\\u003Cb\\u003EIssued Date\\u003C/b\\u003E: Sep 23, 2020 10:11 P.M. UTC\\u003C/p\\u003E\\u003C/div\\u003E\"},\"status\":\"final\",\"category\":[{\"coding\":[{\"system\":\"http://terminology.hl7.org/CodeSystem/observation-category\",\"code\":\"social-history\",\"display\":\"Social History\"}],\"text\":\"Social History\"}],\"code\":{\"coding\":[{\"system\":\"http://snomed.info/sct\",\"code\":\"228453005\",\"display\":\"Sexually active (finding)\"}],\"text\":\"SHX Sexually active\"},\"subject\":{\"reference\":\"Patient/12724066\"},\"issued\":\"2020-09-23T22:11:11.000Z\",\"valueCodeableConcept\":{\"coding\":[{\"system\":\"http://snomed.info/sct\",\"code\":\"373066001\",\"display\":\"Yes (qualifier value)\"}],\"text\":\"Yes\"}},\"search\":{\"mode\":\"match\"}},{\"fullUrl\":\"https://fhir-myrecord.stagingcerner.com/beta/ec2458f2-1e24-41c8-b71b-0e701af7583d/Observation/SH-73095573-q4626042\",\"resource\":{\"resourceType\":\"Observation\",\"id\":\"SH-73095573-q4626042\",\"meta\":{\"versionId\":\"73095589\",\"lastUpdated\":\"2020-09-23T22:11:11.000Z\"},\"text\":{\"status\":\"generated\",\"div\":\"\\u003Cdiv xmlns=\\\"http://www.w3.org/1999/xhtml\\\"\\u003E\\u003Cp\\u003E\\u003Cb\\u003EObservation\\u003C/b\\u003E\\u003C/p\\u003E\\u003Cp\\u003E\\u003Cb\\u003EPatient Id\\u003C/b\\u003E: 12724066\\u003C/p\\u003E\\u003Cp\\u003E\\u003Cb\\u003EStatus\\u003C/b\\u003E: Final\\u003C/p\\u003E\\u003Cp\\u003E\\u003Cb\\u003ECategories\\u003C/b\\u003E: Social History\\u003C/p\\u003E\\u003Cp\\u003E\\u003Cb\\u003EQuestion\\u003C/b\\u003E: SHX Sexually active at age\\u003C/p\\u003E\\u003Cp\\u003E\\u003Cb\\u003EResponse\\u003C/b\\u003E: 17 Years\\u003C/p\\u003E\\u003Cp\\u003E\\u003Cb\\u003EIssued Date\\u003C/b\\u003E: Sep 23, 2020 10:11 P.M. UTC\\u003C/p\\u003E\\u003C/div\\u003E\"},\"status\":\"final\",\"category\":[{\"coding\":[{\"system\":\"http://terminology.hl7.org/CodeSystem/observation-category\",\"code\":\"social-history\",\"display\":\"Social History\"}],\"text\":\"Social History\"}],\"code\":{\"coding\":[{\"system\":\"http://snomed.info/sct\",\"code\":\"228456002\",\"display\":\"Age became sexually active (observable entity)\"}],\"text\":\"SHX Sexually active at age\"},\"subject\":{\"reference\":\"Patient/12724066\"},\"issued\":\"2020-09-23T22:11:11.000Z\",\"valueString\":\"17 Years\"},\"search\":{\"mode\":\"match\"}},{\"fullUrl\":\"https://fhir-myrecord.stagingcerner.com/beta/ec2458f2-1e24-41c8-b71b-0e701af7583d/Observation/SH-73095573-q37125077\",\"resource\":{\"resourceType\":\"Observation\",\"id\":\"SH-73095573-q37125077\",\"meta\":{\"versionId\":\"73095589\",\"lastUpdated\":\"2020-09-23T22:11:11.000Z\"},\"text\":{\"status\":\"generated\",\"div\":\"\\u003Cdiv xmlns=\\\"http://www.w3.org/1999/xhtml\\\"\\u003E\\u003Cp\\u003E\\u003Cb\\u003EObservation\\u003C/b\\u003E\\u003C/p\\u003E\\u003Cp\\u003E\\u003Cb\\u003EPatient Id\\u003C/b\\u003E: 12724066\\u003C/p\\u003E\\u003Cp\\u003E\\u003Cb\\u003EStatus\\u003C/b\\u003E: Final\\u003C/p\\u003E\\u003Cp\\u003E\\u003Cb\\u003ECategories\\u003C/b\\u003E: Social History\\u003C/p\\u003E\\u003Cp\\u003E\\u003Cb\\u003EQuestion\\u003C/b\\u003E: SHX Are your partners?\\u003C/p\\u003E\\u003Cp\\u003E\\u003Cb\\u003EResponse\\u003C/b\\u003E: Both\\u003C/p\\u003E\\u003Cp\\u003E\\u003Cb\\u003EIssued Date\\u003C/b\\u003E: Sep 23, 2020 10:11 P.M. UTC\\u003C/p\\u003E\\u003C/div\\u003E\"},\"status\":\"final\",\"category\":[{\"coding\":[{\"system\":\"http://terminology.hl7.org/CodeSystem/observation-category\",\"code\":\"social-history\",\"display\":\"Social History\"}],\"text\":\"Social History\"}],\"code\":{\"coding\":[{\"system\":\"http://snomed.info/sct\",\"code\":\"225517006\",\"display\":\"Sexual partners (observable entity)\"}],\"text\":\"SHX Are your partners?\"},\"subject\":{\"reference\":\"Patient/12724066\"},\"issued\":\"2020-09-23T22:11:11.000Z\",\"valueCodeableConcept\":{\"coding\":[{\"system\":\"http://snomed.info/sct\",\"code\":\"51440002\",\"display\":\"Right and left (qualifier value)\"}],\"text\":\"Both\"}},\"search\":{\"mode\":\"match\"}},{\"fullUrl\":\"https://fhir-myrecord.stagingcerner.com/beta/ec2458f2-1e24-41c8-b71b-0e701af7583d/Observation/SH-81-73095491\",\"resource\":{\"resourceType\":\"Observation\",\"id\":\"SH-81-73095491\",\"meta\":{\"versionId\":\"73095533\",\"lastUpdated\":\"2020-09-23T22:10:26.000Z\"},\"text\":{\"status\":\"generated\",\"div\":\"\\u003Cdiv xmlns=\\\"http://www.w3.org/1999/xhtml\\\"\\u003E\\u003Cp\\u003E\\u003Cb\\u003EObservation\\u003C/b\\u003E\\u003C/p\\u003E\\u003Cp\\u003E\\u003Cb\\u003EPatient Id\\u003C/b\\u003E: 12724066\\u003C/p\\u003E\\u003Cp\\u003E\\u003Cb\\u003EStatus\\u003C/b\\u003E: Final\\u003C/p\\u003E\\u003Cp\\u003E\\u003Cb\\u003ECategories\\u003C/b\\u003E: Social History\\u003C/p\\u003E\\u003Cp\\u003E\\u003Cb\\u003ECode\\u003C/b\\u003E: Substance Abuse\\u003C/p\\u003E\\u003Cp\\u003E\\u003Cb\\u003EIssued Date\\u003C/b\\u003E: Sep 23, 2020 10:10 P.M. UTC\\u003C/p\\u003E\\u003C/div\\u003E\"},\"status\":\"final\",\"category\":[{\"coding\":[{\"system\":\"http://terminology.hl7.org/CodeSystem/observation-category\",\"code\":\"social-history\",\"display\":\"Social History\"}],\"text\":\"Social History\"}],\"code\":{\"coding\":[{\"system\":\"http://snomed.info/sct\",\"code\":\"363908000\",\"display\":\"Details of drug misuse behavior (observable entity)\"}],\"text\":\"Substance Abuse\"},\"subject\":{\"reference\":\"Patient/12724066\"},\"issued\":\"2020-09-23T22:10:26.000Z\",\"hasMember\":[{\"reference\":\"Observation/SH-73095491-q4625833\"},{\"reference\":\"Observation/SH-73095491-q4625837\"},{\"reference\":\"Observation/SH-73095491-q4625841\"},{\"reference\":\"Observation/SH-73095491-q4625845\"},{\"reference\":\"Observation/SH-73095491-q4625849\"},{\"reference\":\"Observation/SH-73095491-q4625857\"},{\"reference\":\"Observation/SH-73095491-q4625861\"},{\"reference\":\"Observation/SH-73095491-q4625865\"},{\"reference\":\"Observation/SH-73095491-q4625869\"}]},\"search\":{\"mode\":\"match\"}},{\"fullUrl\":\"https://fhir-myrecord.stagingcerner.com/beta/ec2458f2-1e24-41c8-b71b-0e701af7583d/Observation/SH-73095491-q4625833\",\"resource\":{\"resourceType\":\"Observation\",\"id\":\"SH-73095491-q4625833\",\"meta\":{\"versionId\":\"73095533\",\"lastUpdated\":\"2020-09-23T22:10:26.000Z\"},\"text\":{\"status\":\"generated\",\"div\":\"\\u003Cdiv xmlns=\\\"http://www.w3.org/1999/xhtml\\\"\\u003E\\u003Cp\\u003E\\u003Cb\\u003EObservation\\u003C/b\\u003E\\u003C/p\\u003E\\u003Cp\\u003E\\u003Cb\\u003EPatient Id\\u003C/b\\u003E: 12724066\\u003C/p\\u003E\\u003Cp\\u003E\\u003Cb\\u003EStatus\\u003C/b\\u003E: Final\\u003C/p\\u003E\\u003Cp\\u003E\\u003Cb\\u003ECategories\\u003C/b\\u003E: Social History\\u003C/p\\u003E\\u003Cp\\u003E\\u003Cb\\u003EQuestion\\u003C/b\\u003E: SHX Substance abuse use\\u003C/p\\u003E\\u003Cp\\u003E\\u003Cb\\u003EResponse\\u003C/b\\u003E: Past\\u003C/p\\u003E\\u003Cp\\u003E\\u003Cb\\u003EIssued Date\\u003C/b\\u003E: Sep 23, 2020 10:10 P.M. UTC\\u003C/p\\u003E\\u003C/div\\u003E\"},\"status\":\"final\",\"category\":[{\"coding\":[{\"system\":\"http://terminology.hl7.org/CodeSystem/observation-category\",\"code\":\"social-history\",\"display\":\"Social History\"}],\"text\":\"Social History\"}],\"code\":{\"coding\":[{\"system\":\"http://snomed.info/sct\",\"code\":\"363908000\",\"display\":\"Details of drug misuse behavior (observable entity)\"}],\"text\":\"SHX Substance abuse use\"},\"subject\":{\"reference\":\"Patient/12724066\"},\"issued\":\"2020-09-23T22:10:26.000Z\",\"valueCodeableConcept\":{\"coding\":[{\"system\":\"http://snomed.info/sct\",\"code\":\"410513005\",\"display\":\"In the past (qualifier value)\"}],\"text\":\"Past\"}},\"search\":{\"mode\":\"match\"}},{\"fullUrl\":\"https://fhir-myrecord.stagingcerner.com/beta/ec2458f2-1e24-41c8-b71b-0e701af7583d/Observation/SH-73095491-q4625837\",\"resource\":{\"resourceType\":\"Observation\",\"id\":\"SH-73095491-q4625837\",\"meta\":{\"versionId\":\"73095533\",\"lastUpdated\":\"2020-09-23T22:10:26.000Z\"},\"text\":{\"status\":\"generated\",\"div\":\"\\u003Cdiv xmlns=\\\"http://www.w3.org/1999/xhtml\\\"\\u003E\\u003Cp\\u003E\\u003Cb\\u003EObservation\\u003C/b\\u003E\\u003C/p\\u003E\\u003Cp\\u003E\\u003Cb\\u003EPatient Id\\u003C/b\\u003E: 12724066\\u003C/p\\u003E\\u003Cp\\u003E\\u003Cb\\u003EStatus\\u003C/b\\u003E: Final\\u003C/p\\u003E\\u003Cp\\u003E\\u003Cb\\u003ECategories\\u003C/b\\u003E: Social History\\u003C/p\\u003E\\u003Cp\\u003E\\u003Cb\\u003EQuestion\\u003C/b\\u003E: SHX Substance abuse type\\u003C/p\\u003E\\u003Cp\\u003E\\u003Cb\\u003EResponse\\u003C/b\\u003E: Ecstasy\\u003C/p\\u003E\\u003Cp\\u003E\\u003Cb\\u003EIssued Date\\u003C/b\\u003E: Sep 23, 2020 10:10 P.M. UTC\\u003C/p\\u003E\\u003C/div\\u003E\"},\"status\":\"final\",\"category\":[{\"coding\":[{\"system\":\"http://terminology.hl7.org/CodeSystem/observation-category\",\"code\":\"social-history\",\"display\":\"Social History\"}],\"text\":\"Social History\"}],\"code\":{\"coding\":[{\"system\":\"http://loinc.org\",\"code\":\"56832-9\"}],\"text\":\"SHX Substance abuse type\"},\"subject\":{\"reference\":\"Patient/12724066\"},\"issued\":\"2020-09-23T22:10:26.000Z\",\"valueCodeableConcept\":{\"coding\":[{\"system\":\"http://snomed.info/sct\",\"code\":\"288459003\",\"display\":\"Methylenedioxymethamphetamine (substance)\"}],\"text\":\"Ecstasy\"}},\"search\":{\"mode\":\"match\"}},{\"fullUrl\":\"https://fhir-myrecord.stagingcerner.com/beta/ec2458f2-1e24-41c8-b71b-0e701af7583d/Observation/SH-73095491-q4625841\",\"resource\":{\"resourceType\":\"Observation\",\"id\":\"SH-73095491-q4625841\",\"meta\":{\"versionId\":\"73095533\",\"lastUpdated\":\"2020-09-23T22:10:26.000Z\"},\"text\":{\"status\":\"generated\",\"div\":\"\\u003Cdiv xmlns=\\\"http://www.w3.org/1999/xhtml\\\"\\u003E\\u003Cp\\u003E\\u003Cb\\u003EObservation\\u003C/b\\u003E\\u003C/p\\u003E\\u003Cp\\u003E\\u003Cb\\u003EPatient Id\\u003C/b\\u003E: 12724066\\u003C/p\\u003E\\u003Cp\\u003E\\u003Cb\\u003EStatus\\u003C/b\\u003E: Final\\u003C/p\\u003E\\u003Cp\\u003E\\u003Cb\\u003ECategories\\u003C/b\\u003E: Social History\\u003C/p\\u003E\\u003Cp\\u003E\\u003Cb\\u003EQuestion\\u003C/b\\u003E: SHX Substance abuse frequency\\u003C/p\\u003E\\u003Cp\\u003E\\u003Cb\\u003EResponse\\u003C/b\\u003E: 1-2 times per month\\u003C/p\\u003E\\u003Cp\\u003E\\u003Cb\\u003EIssued Date\\u003C/b\\u003E: Sep 23, 2020 10:10 P.M. UTC\\u003C/p\\u003E\\u003C/div\\u003E\"},\"status\":\"final\",\"category\":[{\"coding\":[{\"system\":\"http://terminology.hl7.org/CodeSystem/observation-category\",\"code\":\"social-history\",\"display\":\"Social History\"}],\"text\":\"Social History\"}],\"code\":{\"coding\":[{\"system\":\"http://snomed.info/sct\",\"code\":\"228390007\",\"display\":\"Frequency of drug misuse (observable entity)\"}],\"text\":\"SHX Substance abuse frequency\"},\"subject\":{\"reference\":\"Patient/12724066\"},\"issued\":\"2020-09-23T22:10:26.000Z\",\"valueCodeableConcept\":{\"coding\":[{\"system\":\"http://snomed.info/sct\",\"code\":\"1361000175103\",\"display\":\"One to two times per month (qualifier value)\"}],\"text\":\"1-2 times per month\"}},\"search\":{\"mode\":\"match\"}},{\"fullUrl\":\"https://fhir-myrecord.stagingcerner.com/beta/ec2458f2-1e24-41c8-b71b-0e701af7583d/Observation/SH-73095491-q4625845\",\"resource\":{\"resourceType\":\"Observation\",\"id\":\"SH-73095491-q4625845\",\"meta\":{\"versionId\":\"73095533\",\"lastUpdated\":\"2020-09-23T22:10:26.000Z\"},\"text\":{\"status\":\"generated\",\"div\":\"\\u003Cdiv xmlns=\\\"http://www.w3.org/1999/xhtml\\\"\\u003E\\u003Cp\\u003E\\u003Cb\\u003EObservation\\u003C/b\\u003E\\u003C/p\\u003E\\u003Cp\\u003E\\u003Cb\\u003EPatient Id\\u003C/b\\u003E: 12724066\\u003C/p\\u003E\\u003Cp\\u003E\\u003Cb\\u003EStatus\\u003C/b\\u003E: Final\\u003C/p\\u003E\\u003Cp\\u003E\\u003Cb\\u003ECategories\\u003C/b\\u003E: Social History\\u003C/p\\u003E\\u003Cp\\u003E\\u003Cb\\u003EQuestion\\u003C/b\\u003E: SHX Substance abuse previous treatment\\u003C/p\\u003E\\u003Cp\\u003E\\u003Cb\\u003EResponse\\u003C/b\\u003E: None\\u003C/p\\u003E\\u003Cp\\u003E\\u003Cb\\u003EIssued Date\\u003C/b\\u003E: Sep 23, 2020 10:10 P.M. UTC\\u003C/p\\u003E\\u003C/div\\u003E\"},\"status\":\"final\",\"category\":[{\"coding\":[{\"system\":\"http://terminology.hl7.org/CodeSystem/observation-category\",\"code\":\"social-history\",\"display\":\"Social History\"}],\"text\":\"Social History\"}],\"code\":{\"coding\":[{\"system\":\"http://snomed.info/sct\",\"code\":\"439374006\",\"display\":\"Drug abuse cessation behavior (observable entity)\"}],\"text\":\"SHX Substance abuse previous treatment\"},\"subject\":{\"reference\":\"Patient/12724066\"},\"issued\":\"2020-09-23T22:10:26.000Z\",\"valueCodeableConcept\":{\"coding\":[{\"system\":\"http://snomed.info/sct\",\"code\":\"260413007\",\"display\":\"None (qualifier value)\"}],\"text\":\"None\"}},\"search\":{\"mode\":\"match\"}},{\"fullUrl\":\"https://fhir-myrecord.stagingcerner.com/beta/ec2458f2-1e24-41c8-b71b-0e701af7583d/Observation/SH-73095491-q4625849\",\"resource\":{\"resourceType\":\"Observation\",\"id\":\"SH-73095491-q4625849\",\"meta\":{\"versionId\":\"73095533\",\"lastUpdated\":\"2020-09-23T22:10:26.000Z\"},\"text\":{\"status\":\"generated\",\"div\":\"\\u003Cdiv xmlns=\\\"http://www.w3.org/1999/xhtml\\\"\\u003E\\u003Cp\\u003E\\u003Cb\\u003EObservation\\u003C/b\\u003E\\u003C/p\\u003E\\u003Cp\\u003E\\u003Cb\\u003EPatient Id\\u003C/b\\u003E: 12724066\\u003C/p\\u003E\\u003Cp\\u003E\\u003Cb\\u003EStatus\\u003C/b\\u003E: Final\\u003C/p\\u003E\\u003Cp\\u003E\\u003Cb\\u003ECategories\\u003C/b\\u003E: Social History\\u003C/p\\u003E\\u003Cp\\u003E\\u003Cb\\u003EQuestion\\u003C/b\\u003E: SHX Substance abuse started at age\\u003C/p\\u003E\\u003Cp\\u003E\\u003Cb\\u003EResponse\\u003C/b\\u003E: 13 Years\\u003C/p\\u003E\\u003Cp\\u003E\\u003Cb\\u003EIssued Date\\u003C/b\\u003E: Sep 23, 2020 10:10 P.M. UTC\\u003C/p\\u003E\\u003C/div\\u003E\"},\"status\":\"final\",\"category\":[{\"coding\":[{\"system\":\"http://terminology.hl7.org/CodeSystem/observation-category\",\"code\":\"social-history\",\"display\":\"Social History\"}],\"text\":\"Social History\"}],\"code\":{\"coding\":[{\"system\":\"http://snomed.info/sct\",\"code\":\"228413007\",\"display\":\"Age at starting drug misuse (observable entity)\"}],\"text\":\"SHX Substance abuse started at age\"},\"subject\":{\"reference\":\"Patient/12724066\"},\"issued\":\"2020-09-23T22:10:26.000Z\",\"valueString\":\"13 Years\"},\"search\":{\"mode\":\"match\"}},{\"fullUrl\":\"https://fhir-myrecord.stagingcerner.com/beta/ec2458f2-1e24-41c8-b71b-0e701af7583d/Observation/SH-73095491-q4625857\",\"resource\":{\"resourceType\":\"Observation\",\"id\":\"SH-73095491-q4625857\",\"meta\":{\"versionId\":\"73095533\",\"lastUpdated\":\"2020-09-23T22:10:26.000Z\"},\"text\":{\"status\":\"generated\",\"div\":\"\\u003Cdiv xmlns=\\\"http://www.w3.org/1999/xhtml\\\"\\u003E\\u003Cp\\u003E\\u003Cb\\u003EObservation\\u003C/b\\u003E\\u003C/p\\u003E\\u003Cp\\u003E\\u003Cb\\u003EPatient Id\\u003C/b\\u003E: 12724066\\u003C/p\\u003E\\u003Cp\\u003E\\u003Cb\\u003EStatus\\u003C/b\\u003E: Final\\u003C/p\\u003E\\u003Cp\\u003E\\u003Cb\\u003ECategories\\u003C/b\\u003E: Social History\\u003C/p\\u003E\\u003Cp\\u003E\\u003Cb\\u003EQuestion\\u003C/b\\u003E: SHX IV drug use\\u003C/p\\u003E\\u003Cp\\u003E\\u003Cb\\u003EResponse\\u003C/b\\u003E: No\\u003C/p\\u003E\\u003Cp\\u003E\\u003Cb\\u003EIssued Date\\u003C/b\\u003E: Sep 23, 2020 10:10 P.M. UTC\\u003C/p\\u003E\\u003C/div\\u003E\"},\"status\":\"final\",\"category\":[{\"coding\":[{\"system\":\"http://terminology.hl7.org/CodeSystem/observation-category\",\"code\":\"social-history\",\"display\":\"Social History\"}],\"text\":\"Social History\"}],\"code\":{\"coding\":[{\"system\":\"http://snomed.info/sct\",\"code\":\"228391006\",\"display\":\"Drug injection behavior (observable entity)\"}],\"text\":\"SHX IV drug use\"},\"subject\":{\"reference\":\"Patient/12724066\"},\"issued\":\"2020-09-23T22:10:26.000Z\",\"valueCodeableConcept\":{\"coding\":[{\"system\":\"http://snomed.info/sct\",\"code\":\"373067005\",\"display\":\"No (qualifier value)\"}],\"text\":\"No\"}},\"search\":{\"mode\":\"match\"}},{\"fullUrl\":\"https://fhir-myrecord.stagingcerner.com/beta/ec2458f2-1e24-41c8-b71b-0e701af7583d/Observation/SH-73095491-q4625861\",\"resource\":{\"resourceType\":\"Observation\",\"id\":\"SH-73095491-q4625861\",\"meta\":{\"versionId\":\"73095533\",\"lastUpdated\":\"2020-09-23T22:10:26.000Z\"},\"text\":{\"status\":\"generated\",\"div\":\"\\u003Cdiv xmlns=\\\"http://www.w3.org/1999/xhtml\\\"\\u003E\\u003Cp\\u003E\\u003Cb\\u003EObservation\\u003C/b\\u003E\\u003C/p\\u003E\\u003Cp\\u003E\\u003Cb\\u003EPatient Id\\u003C/b\\u003E: 12724066\\u003C/p\\u003E\\u003Cp\\u003E\\u003Cb\\u003EStatus\\u003C/b\\u003E: Final\\u003C/p\\u003E\\u003Cp\\u003E\\u003Cb\\u003ECategories\\u003C/b\\u003E: Social History\\u003C/p\\u003E\\u003Cp\\u003E\\u003Cb\\u003EQuestion\\u003C/b\\u003E: SHX Substance abuse interfered with work\\u003C/p\\u003E\\u003Cp\\u003E\\u003Cb\\u003EResponse\\u003C/b\\u003E: No\\u003C/p\\u003E\\u003Cp\\u003E\\u003Cb\\u003EIssued Date\\u003C/b\\u003E: Sep 23, 2020 10:10 P.M. UTC\\u003C/p\\u003E\\u003C/div\\u003E\"},\"status\":\"final\",\"category\":[{\"coding\":[{\"system\":\"http://terminology.hl7.org/CodeSystem/observation-category\",\"code\":\"social-history\",\"display\":\"Social History\"}],\"text\":\"Social History\"}],\"code\":{\"coding\":[{\"system\":\"http://snomed.info/sct\",\"code\":\"228418003\",\"display\":\"Drug habit takes priority over social obligations (finding)\"}],\"text\":\"SHX Substance abuse interfered with work\"},\"subject\":{\"reference\":\"Patient/12724066\"},\"issued\":\"2020-09-23T22:10:26.000Z\",\"valueCodeableConcept\":{\"coding\":[{\"system\":\"http://snomed.info/sct\",\"code\":\"373067005\",\"display\":\"No (qualifier value)\"}],\"text\":\"No\"}},\"search\":{\"mode\":\"match\"}},{\"fullUrl\":\"https://fhir-myrecord.stagingcerner.com/beta/ec2458f2-1e24-41c8-b71b-0e701af7583d/Observation/SH-73095491-q4625865\",\"resource\":{\"resourceType\":\"Observation\",\"id\":\"SH-73095491-q4625865\",\"meta\":{\"versionId\":\"73095533\",\"lastUpdated\":\"2020-09-23T22:10:26.000Z\"},\"text\":{\"status\":\"generated\",\"div\":\"\\u003Cdiv xmlns=\\\"http://www.w3.org/1999/xhtml\\\"\\u003E\\u003Cp\\u003E\\u003Cb\\u003EObservation\\u003C/b\\u003E\\u003C/p\\u003E\\u003Cp\\u003E\\u003Cb\\u003EPatient Id\\u003C/b\\u003E: 12724066\\u003C/p\\u003E\\u003Cp\\u003E\\u003Cb\\u003EStatus\\u003C/b\\u003E: Final\\u003C/p\\u003E\\u003Cp\\u003E\\u003Cb\\u003ECategories\\u003C/b\\u003E: Social History\\u003C/p\\u003E\\u003Cp\\u003E\\u003Cb\\u003EQuestion\\u003C/b\\u003E: SHX Substance abuse readiness to change\\u003C/p\\u003E\\u003Cp\\u003E\\u003Cb\\u003EResponse\\u003C/b\\u003E: No\\u003C/p\\u003E\\u003Cp\\u003E\\u003Cb\\u003EIssued Date\\u003C/b\\u003E: Sep 23, 2020 10:10 P.M. UTC\\u003C/p\\u003E\\u003C/div\\u003E\"},\"status\":\"final\",\"category\":[{\"coding\":[{\"system\":\"http://terminology.hl7.org/CodeSystem/observation-category\",\"code\":\"social-history\",\"display\":\"Social History\"}],\"text\":\"Social History\"}],\"code\":{\"coding\":[{\"system\":\"http://snomed.info/sct\",\"code\":\"43761000175107\",\"display\":\"Readiness to change drug misuse behavior (observable entity)\"}],\"text\":\"SHX Substance abuse readiness to change\"},\"subject\":{\"reference\":\"Patient/12724066\"},\"issued\":\"2020-09-23T22:10:26.000Z\",\"valueCodeableConcept\":{\"coding\":[{\"system\":\"http://snomed.info/sct\",\"code\":\"373067005\",\"display\":\"No (qualifier value)\"}],\"text\":\"No\"}},\"search\":{\"mode\":\"match\"}},{\"fullUrl\":\"https://fhir-myrecord.stagingcerner.com/beta/ec2458f2-1e24-41c8-b71b-0e701af7583d/Observation/SH-73095491-q4625869\",\"resource\":{\"resourceType\":\"Observation\",\"id\":\"SH-73095491-q4625869\",\"meta\":{\"versionId\":\"73095533\",\"lastUpdated\":\"2020-09-23T22:10:26.000Z\"},\"text\":{\"status\":\"generated\",\"div\":\"\\u003Cdiv xmlns=\\\"http://www.w3.org/1999/xhtml\\\"\\u003E\\u003Cp\\u003E\\u003Cb\\u003EObservation\\u003C/b\\u003E\\u003C/p\\u003E\\u003Cp\\u003E\\u003Cb\\u003EPatient Id\\u003C/b\\u003E: 12724066\\u003C/p\\u003E\\u003Cp\\u003E\\u003Cb\\u003EStatus\\u003C/b\\u003E: Final\\u003C/p\\u003E\\u003Cp\\u003E\\u003Cb\\u003ECategories\\u003C/b\\u003E: Social History\\u003C/p\\u003E\\u003Cp\\u003E\\u003Cb\\u003EQuestion\\u003C/b\\u003E: SHX Substance abuse household concern\\u003C/p\\u003E\\u003Cp\\u003E\\u003Cb\\u003EResponse\\u003C/b\\u003E: No\\u003C/p\\u003E\\u003Cp\\u003E\\u003Cb\\u003EIssued Date\\u003C/b\\u003E: Sep 23, 2020 10:10 P.M. UTC\\u003C/p\\u003E\\u003C/div\\u003E\"},\"status\":\"final\",\"category\":[{\"coding\":[{\"system\":\"http://terminology.hl7.org/CodeSystem/observation-category\",\"code\":\"social-history\",\"display\":\"Social History\"}],\"text\":\"Social History\"}],\"code\":{\"coding\":[{\"system\":\"http://snomed.info/sct\",\"code\":\"713070003\",\"display\":\"Drug misuser in household (finding)\"}],\"text\":\"SHX Substance abuse household concern\"},\"subject\":{\"reference\":\"Patient/12724066\"},\"issued\":\"2020-09-23T22:10:26.000Z\",\"valueCodeableConcept\":{\"coding\":[{\"system\":\"http://snomed.info/sct\",\"code\":\"373067005\",\"display\":\"No (qualifier value)\"}],\"text\":\"No\"}},\"search\":{\"mode\":\"match\"}},{\"fullUrl\":\"https://fhir-myrecord.stagingcerner.com/beta/ec2458f2-1e24-41c8-b71b-0e701af7583d/Observation/SH-93-73033543\",\"resource\":{\"resourceType\":\"Observation\",\"id\":\"SH-93-73033543\",\"meta\":{\"versionId\":\"73033543\",\"lastUpdated\":\"2019-12-26T19:08:31.000Z\"},\"text\":{\"status\":\"generated\",\"div\":\"\\u003Cdiv xmlns=\\\"http://www.w3.org/1999/xhtml\\\"\\u003E\\u003Cp\\u003E\\u003Cb\\u003EObservation\\u003C/b\\u003E\\u003C/p\\u003E\\u003Cp\\u003E\\u003Cb\\u003EPatient Id\\u003C/b\\u003E: 12724066\\u003C/p\\u003E\\u003Cp\\u003E\\u003Cb\\u003EStatus\\u003C/b\\u003E: Final\\u003C/p\\u003E\\u003Cp\\u003E\\u003Cb\\u003ECategories\\u003C/b\\u003E: Social History\\u003C/p\\u003E\\u003Cp\\u003E\\u003Cb\\u003ECode\\u003C/b\\u003E: Tobacco\\u003C/p\\u003E\\u003Cp\\u003E\\u003Cb\\u003EIssued Date\\u003C/b\\u003E: Dec 26, 2019  7:08 P.M. UTC\\u003C/p\\u003E\\u003C/div\\u003E\"},\"status\":\"final\",\"category\":[{\"coding\":[{\"system\":\"http://terminology.hl7.org/CodeSystem/observation-category\",\"code\":\"social-history\",\"display\":\"Social History\"}],\"text\":\"Social History\"}],\"code\":{\"coding\":[{\"system\":\"http://loinc.org\",\"code\":\"72166-2\"}],\"text\":\"Tobacco\"},\"subject\":{\"reference\":\"Patient/12724066\"},\"issued\":\"2019-12-26T19:08:31.000Z\",\"hasMember\":[{\"reference\":\"Observation/SH-73033543-q4625825\"},{\"reference\":\"Observation/SH-73033543-q4625741\"}]},\"search\":{\"mode\":\"match\"}},{\"fullUrl\":\"https://fhir-myrecord.stagingcerner.com/beta/ec2458f2-1e24-41c8-b71b-0e701af7583d/Observation/SH-73033543-q4625825\",\"resource\":{\"resourceType\":\"Observation\",\"id\":\"SH-73033543-q4625825\",\"meta\":{\"versionId\":\"73033543\",\"lastUpdated\":\"2019-12-26T19:08:31.000Z\"},\"text\":{\"status\":\"generated\",\"div\":\"\\u003Cdiv xmlns=\\\"http://www.w3.org/1999/xhtml\\\"\\u003E\\u003Cp\\u003E\\u003Cb\\u003EObservation\\u003C/b\\u003E\\u003C/p\\u003E\\u003Cp\\u003E\\u003Cb\\u003EPatient Id\\u003C/b\\u003E: 12724066\\u003C/p\\u003E\\u003Cp\\u003E\\u003Cb\\u003EStatus\\u003C/b\\u003E: Final\\u003C/p\\u003E\\u003Cp\\u003E\\u003Cb\\u003ECategories\\u003C/b\\u003E: Social History\\u003C/p\\u003E\\u003Cp\\u003E\\u003Cb\\u003EQuestion\\u003C/b\\u003E: SHX Tobacco use\\u003C/p\\u003E\\u003Cp\\u003E\\u003Cb\\u003EResponse\\u003C/b\\u003E: Former smoker, quit more than 30 days ago\\u003C/p\\u003E\\u003Cp\\u003E\\u003Cb\\u003EIssued Date\\u003C/b\\u003E: Dec 26, 2019  7:08 P.M. UTC\\u003C/p\\u003E\\u003C/div\\u003E\"},\"status\":\"final\",\"category\":[{\"coding\":[{\"system\":\"http://terminology.hl7.org/CodeSystem/observation-category\",\"code\":\"social-history\",\"display\":\"Social History\"}],\"text\":\"Social History\"}],\"code\":{\"coding\":[{\"system\":\"http://loinc.org\",\"code\":\"72166-2\"}],\"text\":\"SHX Tobacco use\"},\"subject\":{\"reference\":\"Patient/12724066\"},\"issued\":\"2019-12-26T19:08:31.000Z\",\"valueCodeableConcept\":{\"coding\":[{\"system\":\"http://snomed.info/sct\",\"code\":\"8517006\",\"display\":\"Ex-smoker (finding)\"}],\"text\":\"Former smoker, quit more than 30 days ago\"}},\"search\":{\"mode\":\"match\"}},{\"fullUrl\":\"https://fhir-myrecord.stagingcerner.com/beta/ec2458f2-1e24-41c8-b71b-0e701af7583d/Observation/SH-73033543-q4625741\",\"resource\":{\"resourceType\":\"Observation\",\"id\":\"SH-73033543-q4625741\",\"meta\":{\"versionId\":\"73033543\",\"lastUpdated\":\"2019-12-26T19:08:31.000Z\"},\"text\":{\"status\":\"generated\",\"div\":\"\\u003Cdiv xmlns=\\\"http://www.w3.org/1999/xhtml\\\"\\u003E\\u003Cp\\u003E\\u003Cb\\u003EObservation\\u003C/b\\u003E\\u003C/p\\u003E\\u003Cp\\u003E\\u003Cb\\u003EPatient Id\\u003C/b\\u003E: 12724066\\u003C/p\\u003E\\u003Cp\\u003E\\u003Cb\\u003EStatus\\u003C/b\\u003E: Final\\u003C/p\\u003E\\u003Cp\\u003E\\u003Cb\\u003ECategories\\u003C/b\\u003E: Social History\\u003C/p\\u003E\\u003Cp\\u003E\\u003Cb\\u003EQuestion\\u003C/b\\u003E: SHX Tobacco number of years\\u003C/p\\u003E\\u003Cp\\u003E\\u003Cb\\u003EResponse\\u003C/b\\u003E: 12\\u003C/p\\u003E\\u003Cp\\u003E\\u003Cb\\u003EIssued Date\\u003C/b\\u003E: Dec 26, 2019  7:08 P.M. UTC\\u003C/p\\u003E\\u003C/div\\u003E\"},\"status\":\"final\",\"category\":[{\"coding\":[{\"system\":\"http://terminology.hl7.org/CodeSystem/observation-category\",\"code\":\"social-history\",\"display\":\"Social History\"}],\"text\":\"Social History\"}],\"code\":{\"coding\":[{\"system\":\"http://snomed.info/sct\",\"code\":\"228487000\",\"display\":\"Total time smoked (observable entity)\"}],\"text\":\"SHX Tobacco number of years\"},\"subject\":{\"reference\":\"Patient/12724066\"},\"issued\":\"2019-12-26T19:08:31.000Z\",\"valueString\":\"12\"},\"search\":{\"mode\":\"match\"}},{\"fullUrl\":\"https://fhir-myrecord.stagingcerner.com/beta/ec2458f2-1e24-41c8-b71b-0e701af7583d/Observation/M-197423674\",\"resource\":{\"resourceType\":\"Observation\",\"id\":\"M-197423674\",\"meta\":{\"versionId\":\"2\",\"lastUpdated\":\"2021-01-08T22:50:12.000Z\"},\"text\":{\"status\":\"generated\",\"div\":\"\\u003Cdiv xmlns=\\\"http://www.w3.org/1999/xhtml\\\"\\u003E\\u003Cp\\u003E\\u003Cb\\u003EObservation\\u003C/b\\u003E\\u003C/p\\u003E\\u003Cp\\u003E\\u003Cb\\u003EPatient Id\\u003C/b\\u003E: 12724066\\u003C/p\\u003E\\u003Cp\\u003E\\u003Cb\\u003EStatus\\u003C/b\\u003E: Final\\u003C/p\\u003E\\u003Cp\\u003E\\u003Cb\\u003ECode\\u003C/b\\u003E: Infection\\u003C/p\\u003E\\u003Cp\\u003E\\u003Cb\\u003EResult\\u003C/b\\u003E: Non-Nosocomial\\u003C/p\\u003E\\u003Cp\\u003E\\u003Cb\\u003EEffective Date\\u003C/b\\u003E: Jan  8, 2021 10:50 P.M. UTC\\u003C/p\\u003E\\u003C/div\\u003E\"},\"identifier\":[{\"system\":\"https://fhir.cerner.com/ceuuid\",\"value\":\"CE87caf4b7-9397-4667-9897-702218017c9e-197423674-2021010822501200\"}],\"status\":\"final\",\"category\":[{\"extension\":[{\"valueCode\":\"unknown\",\"url\":\"http://hl7.org/fhir/StructureDefinition/data-absent-reason\"}]}],\"code\":{\"coding\":[{\"system\":\"https://fhir.cerner.com/ec2458f2-1e24-41c8-b71b-0e701af7583d/codeSet/72\",\"code\":\"3613868\",\"display\":\"Infection\",\"userSelected\":true},{\"system\":\"http://snomed.info/sct\",\"code\":\"40733004\",\"display\":\"Infectious disease (disorder)\"}],\"text\":\"Infection\"},\"subject\":{\"reference\":\"Patient/12724066\"},\"encounter\":{\"reference\":\"Encounter/97954484\"},\"effectiveDateTime\":\"2021-01-08T22:50:00.000Z\",\"issued\":\"2021-01-08T22:50:05.000Z\",\"performer\":[{\"reference\":\"Practitioner/12742905\"}],\"valueCodeableConcept\":{\"text\":\"Non-Nosocomial\"}},\"search\":{\"mode\":\"match\"}},{\"fullUrl\":\"https://fhir-myrecord.stagingcerner.com/beta/ec2458f2-1e24-41c8-b71b-0e701af7583d/Observation/M-197423634\",\"resource\":{\"resourceType\":\"Observation\",\"id\":\"M-197423634\",\"meta\":{\"versionId\":\"2\",\"lastUpdated\":\"2021-01-08T22:47:33.000Z\"},\"text\":{\"status\":\"generated\",\"div\":\"\\u003Cdiv xmlns=\\\"http://www.w3.org/1999/xhtml\\\"\\u003E\\u003Cp\\u003E\\u003Cb\\u003EObservation\\u003C/b\\u003E\\u003C/p\\u003E\\u003Cp\\u003E\\u003Cb\\u003EPatient Id\\u003C/b\\u003E: 12724066\\u003C/p\\u003E\\u003Cp\\u003E\\u003Cb\\u003EStatus\\u003C/b\\u003E: Final\\u003C/p\\u003E\\u003Cp\\u003E\\u003Cb\\u003ECode\\u003C/b\\u003E: Infection\\u003C/p\\u003E\\u003Cp\\u003E\\u003Cb\\u003EResult\\u003C/b\\u003E: Non-Nosocomial\\u003C/p\\u003E\\u003Cp\\u003E\\u003Cb\\u003EEffective Date\\u003C/b\\u003E: Jan  8, 2021 10:47 P.M. UTC\\u003C/p\\u003E\\u003C/div\\u003E\"},\"identifier\":[{\"system\":\"https://fhir.cerner.com/ceuuid\",\"value\":\"CE87caf4b7-9397-4667-9897-702218017c9e-197423634-2021010822473300\"}],\"status\":\"final\",\"category\":[{\"extension\":[{\"valueCode\":\"unknown\",\"url\":\"http://hl7.org/fhir/StructureDefinition/data-absent-reason\"}]}],\"code\":{\"coding\":[{\"system\":\"https://fhir.cerner.com/ec2458f2-1e24-41c8-b71b-0e701af7583d/codeSet/72\",\"code\":\"3613868\",\"display\":\"Infection\",\"userSelected\":true},{\"system\":\"http://snomed.info/sct\",\"code\":\"40733004\",\"display\":\"Infectious disease (disorder)\"}],\"text\":\"Infection\"},\"subject\":{\"reference\":\"Patient/12724066\"},\"encounter\":{\"reference\":\"Encounter/97954484\"},\"effectiveDateTime\":\"2021-01-08T22:47:00.000Z\",\"issued\":\"2021-01-08T22:47:28.000Z\",\"performer\":[{\"reference\":\"Practitioner/12742905\"}],\"valueCodeableConcept\":{\"text\":\"Non-Nosocomial\"}},\"search\":{\"mode\":\"match\"}},{\"fullUrl\":\"https://fhir-myrecord.stagingcerner.com/beta/ec2458f2-1e24-41c8-b71b-0e701af7583d/Observation/M-197423620\",\"resource\":{\"resourceType\":\"Observation\",\"id\":\"M-197423620\",\"meta\":{\"versionId\":\"2\",\"lastUpdated\":\"2021-01-08T22:47:17.000Z\"},\"text\":{\"status\":\"generated\",\"div\":\"\\u003Cdiv xmlns=\\\"http://www.w3.org/1999/xhtml\\\"\\u003E\\u003Cp\\u003E\\u003Cb\\u003EObservation\\u003C/b\\u003E\\u003C/p\\u003E\\u003Cp\\u003E\\u003Cb\\u003EPatient Id\\u003C/b\\u003E: 12724066\\u003C/p\\u003E\\u003Cp\\u003E\\u003Cb\\u003EStatus\\u003C/b\\u003E: Final\\u003C/p\\u003E\\u003Cp\\u003E\\u003Cb\\u003ECode\\u003C/b\\u003E: Infection\\u003C/p\\u003E\\u003Cp\\u003E\\u003Cb\\u003EResult\\u003C/b\\u003E: Non-Nosocomial\\u003C/p\\u003E\\u003Cp\\u003E\\u003Cb\\u003EEffective Date\\u003C/b\\u003E: Jan  8, 2021 10:46 P.M. UTC\\u003C/p\\u003E\\u003C/div\\u003E\"},\"identifier\":[{\"system\":\"https://fhir.cerner.com/ceuuid\",\"value\":\"CE87caf4b7-9397-4667-9897-702218017c9e-197423620-2021010822471700\"}],\"status\":\"final\",\"category\":[{\"extension\":[{\"valueCode\":\"unknown\",\"url\":\"http://hl7.org/fhir/StructureDefinition/data-absent-reason\"}]}],\"code\":{\"coding\":[{\"system\":\"https://fhir.cerner.com/ec2458f2-1e24-41c8-b71b-0e701af7583d/codeSet/72\",\"code\":\"3613868\",\"display\":\"Infection\",\"userSelected\":true},{\"system\":\"http://snomed.info/sct\",\"code\":\"40733004\",\"display\":\"Infectious disease (disorder)\"}],\"text\":\"Infection\"},\"subject\":{\"reference\":\"Patient/12724066\"},\"encounter\":{\"reference\":\"Encounter/97954484\"},\"effectiveDateTime\":\"2021-01-08T22:46:00.000Z\",\"issued\":\"2021-01-08T22:46:53.000Z\",\"performer\":[{\"reference\":\"Practitioner/12742905\"}],\"valueCodeableConcept\":{\"text\":\"Non-Nosocomial\"}},\"search\":{\"mode\":\"match\"}}]}\n"
     ]
    }
   ],
   "source": [
    "headers = {\"Accept\" : \"application/fhir+json\", \"Authorization\" : \"Bearer \" + access_token_response.json()['access_token']}\n",
    "data_request_response = requests.get(\"{}Observation?patient={}\".format(CERNER_BASE_URL, NANCY_PATIENT_ID), headers=headers)\n",
    "\n",
    "print(data_request_response.text)"
   ]
  },
  {
   "cell_type": "markdown",
   "metadata": {},
   "source": [
    "Request for all `Observation`'s should fail with `400` ✔️:"
   ]
  },
  {
   "cell_type": "code",
   "execution_count": 38,
   "metadata": {},
   "outputs": [
    {
     "name": "stdout",
     "output_type": "stream",
     "text": [
      "<Response [400]>\n"
     ]
    }
   ],
   "source": [
    "data_request_response = requests.get(\"{}Observation\".format(CERNER_BASE_URL), headers=headers)\n",
    "\n",
    "print(data_request_response)"
   ]
  },
  {
   "cell_type": "markdown",
   "metadata": {},
   "source": [
    "Request for insufficient scope should fail with `403` ✔️:"
   ]
  },
  {
   "cell_type": "code",
   "execution_count": 39,
   "metadata": {},
   "outputs": [
    {
     "name": "stdout",
     "output_type": "stream",
     "text": [
      "<Response [403]>\n"
     ]
    }
   ],
   "source": [
    "data_request_response = requests.get(\"{}Encounter?patient={}\".format(CERNER_BASE_URL, NANCY_PATIENT_ID), headers=headers)\n",
    "\n",
    "print(data_request_response)"
   ]
  },
  {
   "cell_type": "markdown",
   "metadata": {},
   "source": [
    "## Scenario 2"
   ]
  },
  {
   "cell_type": "markdown",
   "metadata": {},
   "source": [
    "Request and be granted the `patient/Observation.rs?category=http://terminology.hl7.org/CodeSystem/observation-category|vital-signs` and `patient/Observation.crs?category=http://terminology.hl7.org/CodeSystem/observation-category|vital-signs` scopes ✔️: "
   ]
  },
  {
   "cell_type": "code",
   "execution_count": 44,
   "metadata": {},
   "outputs": [
    {
     "name": "stdout",
     "output_type": "stream",
     "text": [
      "Navigate to:  https://authorization.cerner.com/tenants/ec2458f2-1e24-41c8-b71b-0e701af7583d/protocols/oauth2/profiles/smart-v1/personas/patient/authorize?client_id=09a2a7f5-68b6-451a-b5dc-547889cf63b4&response_type=code&scope=patient/Observation.read%20patient%2FObservation.rs%3Fcategory%3Dhttp%3A%2F%2Fterminology.hl7.org%2FCodeSystem%2Fobservation-category%7Cvital-signs%20patient%2FObservation.crs%3Fcategory%3Dhttp%3A%2F%2Fterminology.hl7.org%2FCodeSystem%2Fobservation-category%7Cvital-signs&redirect_uri=http://localhost:8080/index.html&aud=https%3A%2F%2Ffhir-myrecord.cerner.com%2Fr4%2Fec2458f2-1e24-41c8-b71b-0e701af7583d\n",
      "\n",
      "authz code: 0911a8a4-2f37-42fb-b8ab-5b777db44916\n",
      "\n",
      "Scopes Granted: patient/Observation.read patient/Observation.rs?category=http://terminology.hl7.org/CodeSystem/observation-category|vital-signs patient/Observation.crs?category=http://terminology.hl7.org/CodeSystem/observation-category|vital-signs\n"
     ]
    }
   ],
   "source": [
    "authorize_url = cerner_config[\"authorization_endpoint\"]\n",
    "token_url = cerner_config[\"token_endpoint\"]\n",
    "\n",
    "redirect_uri = \"http://localhost:8080/index.html\"\n",
    "\n",
    "f = open(\"CERNER_CLIENT_ID.txt\", \"r\")\n",
    "client_id = f.read()\n",
    "f.close()\n",
    "\n",
    "aud = \"https%3A%2F%2Ffhir-myrecord.cerner.com%2Fr4%2Fec2458f2-1e24-41c8-b71b-0e701af7583d\"\n",
    "\n",
    "scopes = \"patient/Observation.read%20patient%2FObservation.rs%3Fcategory%3Dhttp%3A%2F%2Fterminology.hl7.org%2FCodeSystem%2Fobservation-category%7Cvital-signs%20patient%2FObservation.crs%3Fcategory%3Dhttp%3A%2F%2Fterminology.hl7.org%2FCodeSystem%2Fobservation-category%7Cvital-signs\"\n",
    "\n",
    "authorization_redirect_url = \"{}?client_id={}&response_type=code&scope={}&redirect_uri={}&aud={}\".format(authorize_url, \n",
    "                                                                                                  client_id, \n",
    "                                                                                                  scopes, \n",
    "                                                                                                  redirect_uri,\n",
    "                                                                                                  aud)\n",
    "    \n",
    "print(\"Navigate to: \", authorization_redirect_url + \"\\n\")\n",
    "\n",
    "authorization_code = input('authz code: ')\n",
    "\n",
    "headers = {'Content-Type': 'application/x-www-form-urlencoded', 'Accept': 'application/json'}\n",
    "data = {'grant_type': 'authorization_code', 'code': authorization_code, 'redirect_uri': redirect_uri, 'client_id': client_id}\n",
    "access_token_response = requests.post(token_url, data=data, headers=headers)\n",
    "\n",
    "print(\"\\nScopes Granted: \" + access_token_response.json()['scope'])"
   ]
  },
  {
   "cell_type": "markdown",
   "metadata": {},
   "source": [
    "Expect to recieve `Observation` `vital-signs` for Nancy ✔️:"
   ]
  },
  {
   "cell_type": "code",
   "execution_count": 46,
   "metadata": {},
   "outputs": [
    {
     "name": "stdout",
     "output_type": "stream",
     "text": [
      "<Response [200]>\n"
     ]
    }
   ],
   "source": [
    "headers = {\"Accept\" : \"application/fhir+json\", \"Authorization\" : \"Bearer \" + access_token_response.json()['access_token']}\n",
    "data_request_response = requests.get(\"{}Observation?patient={}&category=vital-signs\".format(CERNER_BASE_URL, NANCY_PATIENT_ID), headers=headers)\n",
    "\n",
    "print(data_request_response)"
   ]
  },
  {
   "cell_type": "markdown",
   "metadata": {},
   "source": [
    "Expect to (again) recieve `Observation` `vital-signs` for Nancy (different way of formatting the query here) ✔️:"
   ]
  },
  {
   "cell_type": "code",
   "execution_count": 47,
   "metadata": {},
   "outputs": [
    {
     "name": "stdout",
     "output_type": "stream",
     "text": [
      "<Response [200]>\n"
     ]
    }
   ],
   "source": [
    "data_request_response = requests.get(\"{}Observation?patient={}&category=http://terminology.hl7.org/CodeSystem/observation-category|vital-signs\".format(CERNER_BASE_URL, NANCY_PATIENT_ID), headers=headers)\n",
    "\n",
    "print(data_request_response)"
   ]
  },
  {
   "cell_type": "markdown",
   "metadata": {},
   "source": [
    "Expect to fail when `category` is not set ✔️:"
   ]
  },
  {
   "cell_type": "code",
   "execution_count": 48,
   "metadata": {},
   "outputs": [
    {
     "name": "stdout",
     "output_type": "stream",
     "text": [
      "<Response [422]>\n"
     ]
    }
   ],
   "source": [
    "data_request_response = requests.get(\"{}Observation?patient={}\".format(CERNER_BASE_URL, NANCY_PATIENT_ID), headers=headers)\n",
    "\n",
    "print(data_request_response)"
   ]
  },
  {
   "cell_type": "markdown",
   "metadata": {},
   "source": [
    "Expect to fail when out of scope `category` is set ✔️:"
   ]
  },
  {
   "cell_type": "code",
   "execution_count": 49,
   "metadata": {},
   "outputs": [
    {
     "name": "stdout",
     "output_type": "stream",
     "text": [
      "<Response [422]>\n"
     ]
    }
   ],
   "source": [
    "data_request_response = requests.get(\"{}Observation?patient={}&category=labratory\".format(CERNER_BASE_URL, NANCY_PATIENT_ID), headers=headers)\n",
    "\n",
    "print(data_request_response)"
   ]
  }
 ],
 "metadata": {
  "kernelspec": {
   "display_name": "Python 3",
   "language": "python",
   "name": "python3"
  }
 },
 "nbformat": 4,
 "nbformat_minor": 2
}
