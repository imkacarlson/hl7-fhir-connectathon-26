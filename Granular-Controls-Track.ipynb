{
 "cells": [
  {
   "cell_type": "code",
   "execution_count": 1,
   "metadata": {},
   "outputs": [],
   "source": [
    "import requests"
   ]
  },
  {
   "cell_type": "code",
   "execution_count": 2,
   "metadata": {},
   "outputs": [],
   "source": [
    "SMART_BASE_URL = \"https://smart.argo.run/v/r4/sim/eyJoIjoiMSIsImIiOiI2ODk4OTJiZC1kY2JlLTQxZmMtODY1MS0zOGExZDA4OTM4NTQiLCJqIjoiMSJ9/fhir/\""
   ]
  },
  {
   "cell_type": "markdown",
   "metadata": {},
   "source": [
    "## Scenario 0"
   ]
  },
  {
   "cell_type": "code",
   "execution_count": 3,
   "metadata": {},
   "outputs": [],
   "source": [
    "DISCOVERY_PATH = \".well-known/smart-configuration\""
   ]
  },
  {
   "cell_type": "code",
   "execution_count": 5,
   "metadata": {},
   "outputs": [
    {
     "data": {
      "text/plain": [
       "{'authorization_endpoint': 'https://smart.argo.run/v/r4/sim/eyJoIjoiMSIsImIiOiI2ODk4OTJiZC1kY2JlLTQxZmMtODY1MS0zOGExZDA4OTM4NTQiLCJqIjoiMSJ9/auth/authorize',\n",
       " 'token_endpoint': 'https://smart.argo.run/v/r4/sim/eyJoIjoiMSIsImIiOiI2ODk4OTJiZC1kY2JlLTQxZmMtODY1MS0zOGExZDA4OTM4NTQiLCJqIjoiMSJ9/auth/token',\n",
       " 'introspection_endpoint': 'https://smart.argo.run/v/r4/sim/eyJoIjoiMSIsImIiOiI2ODk4OTJiZC1kY2JlLTQxZmMtODY1MS0zOGExZDA4OTM4NTQiLCJqIjoiMSJ9/auth/introspect',\n",
       " 'code_challenge_methods_supported': ['S256'],\n",
       " 'token_endpoint_auth_methods_supported': ['client_secret_basic',\n",
       "  'client_secret_post'],\n",
       " 'scopes_supported': ['openid',\n",
       "  'profile',\n",
       "  'fhirUser',\n",
       "  'launch',\n",
       "  'launch/patient',\n",
       "  'launch/encounter',\n",
       "  'patient/*.*',\n",
       "  'user/*.*',\n",
       "  'offline_access'],\n",
       " 'response_types_supported': ['code'],\n",
       " 'capabilities': ['launch-ehr',\n",
       "  'launch-standalone',\n",
       "  'client-public',\n",
       "  'client-confidential-symmetric',\n",
       "  'context-passthrough-banner',\n",
       "  'context-passthrough-style',\n",
       "  'context-ehr-patient',\n",
       "  'context-ehr-encounter',\n",
       "  'context-standalone-patient',\n",
       "  'context-standalone-encounter',\n",
       "  'permission-offline',\n",
       "  'permission-patient',\n",
       "  'permission-user',\n",
       "  'permission-v2',\n",
       "  'authorize-post']}"
      ]
     },
     "execution_count": 5,
     "metadata": {},
     "output_type": "execute_result"
    }
   ],
   "source": [
    "requests.get(SMART_BASE_URL + DISCOVERY_PATH).json()"
   ]
  }
 ],
 "metadata": {
  "kernelspec": {
   "display_name": "Python 3",
   "language": "python",
   "name": "python3"
  },
  "language_info": {
   "codemirror_mode": {
    "name": "ipython",
    "version": 3
   },
   "file_extension": ".py",
   "mimetype": "text/x-python",
   "name": "python",
   "nbconvert_exporter": "python",
   "pygments_lexer": "ipython3",
   "version": "3.8.0"
  }
 },
 "nbformat": 4,
 "nbformat_minor": 2
}
