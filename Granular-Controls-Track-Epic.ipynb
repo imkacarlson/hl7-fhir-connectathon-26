{
 "cells": [
  {
   "cell_type": "code",
   "execution_count": 21,
   "metadata": {},
   "outputs": [],
   "source": [
    "import requests\n",
    "from hashlib import sha256"
   ]
  },
  {
   "cell_type": "markdown",
   "metadata": {},
   "source": [
    "# Using Epic Test Server"
   ]
  },
  {
   "cell_type": "code",
   "execution_count": 9,
   "metadata": {},
   "outputs": [],
   "source": [
    "EPIC_BASE_URL = \"https://connectathon.epic.com/interconnect-fhir-oauth/api/FHIR/R4/\"\n",
    "TEST_PATIENT_ID = \"e0VZT8JQnSYBU1u97nG6L3A3\""
   ]
  },
  {
   "cell_type": "markdown",
   "metadata": {},
   "source": [
    "## Scenario 0"
   ]
  },
  {
   "cell_type": "code",
   "execution_count": 5,
   "metadata": {},
   "outputs": [],
   "source": [
    "DISCOVERY_PATH = \".well-known/smart-configuration\""
   ]
  },
  {
   "cell_type": "code",
   "execution_count": 6,
   "metadata": {},
   "outputs": [],
   "source": [
    "epic_config = requests.get(EPIC_BASE_URL + DISCOVERY_PATH)"
   ]
  },
  {
   "cell_type": "markdown",
   "metadata": {},
   "source": [
    "- Payload includes `permission_v2` and `authorize-post` capabilities ✔️\n",
    "- `code_challenge_methods_supported` includes `S256` ✔️\n",
    "- `introscpection_endpoint` included ✔️"
   ]
  },
  {
   "cell_type": "code",
   "execution_count": 7,
   "metadata": {},
   "outputs": [
    {
     "data": {
      "text/plain": [
       "'<discovery xmlns=\"http://hl7.org/fhir\"><authorization_endpoint value=\"https://connectathon.epic.com/Interconnect-Fhir-OAuth/oauth2/authorize\" /><token_endpoint value=\"https://connectathon.epic.com/Interconnect-Fhir-OAuth/oauth2/token\" /><token_endpoint_auth_methods_supported value=\"client_secret_post\" /><token_endpoint_auth_methods_supported value=\"client_secret_basic\" /><token_endpoint_auth_methods_supported value=\"private_key_jwt\" /><scopes_supported value=\"epic.scanning.dmsusername\" /><scopes_supported value=\"fhirUser\" /><scopes_supported value=\"launch\" /><scopes_supported value=\"openid\" /><scopes_supported value=\"profile\" /><response_types_supported value=\"code\" /><introspection_endpoint value=\"https://connectathon.epic.com/Interconnect-Fhir-OAuth/oauth2/introspect\" /><capabilities value=\"launch-ehr\" /><capabilities value=\"launch-standalone\" /><capabilities value=\"client-public\" /><capabilities value=\"client-confidential-symmetric\" /><capabilities value=\"context-banner\" /><capabilities value=\"context-style\" /><capabilities value=\"context-ehr-patient\" /><capabilities value=\"context-ehr-encounter\" /><capabilities value=\"permission-offline\" /><capabilities value=\"permission-patient\" /><capabilities value=\"permission-user\" /><capabilities value=\"authorize-post\" /><capabilities value=\"sso-openid-connect\" /><capabilities value=\"permission-v2\" /><issuer value=\"https://connectathon.epic.com/Interconnect-Fhir-OAuth/oauth2\" /><code_challenge_methods_supported value=\"S256\" /></discovery>'"
      ]
     },
     "execution_count": 7,
     "metadata": {},
     "output_type": "execute_result"
    }
   ],
   "source": [
    "epic_config.text"
   ]
  },
  {
   "cell_type": "markdown",
   "metadata": {},
   "source": [
    "## Scenario 1"
   ]
  },
  {
   "cell_type": "code",
   "execution_count": 8,
   "metadata": {},
   "outputs": [
    {
     "name": "stdout",
     "output_type": "stream",
     "text": [
      "Navigate to:  https://connectathon.epic.com/Interconnect-Fhir-OAuth/oauth2/authorize?response_type=code&client_id=GranularConnect2021Scenario2&redirect_uri=http://localhost:8000/index.html&scope=patient/Observation.rs\n",
      "\n",
      "authz code: eyJhbGciOiJSUzI1NiIsInR5cCI6IkpXVCJ9.eyJhdWQiOiJHZW5lcmljLUhzaSIsImNsaWVudF9pZCI6IkdyYW51bGFyQ29ubmVjdDIwMjFTY2VuYXJpbzIiLCJlcGljLmVjaSI6InVybjplcGljOkN1cnJlbnQtQ29ubmVjdGF0aG9uIiwiZXBpYy5tZXRhZGF0YSI6Il9RMEhTZ01wZkl4UGhkaW13QWJMVlhpb2NoZWFCSTZFWWt2OFdRM05RNWlHazZXSFprWFFSTFhkcUtMSVN4YUtvUnNpQ1BZWnFreWJuOG94QmhqaHREUkwxbDVLdXEtRWdIbFMxTEZoNHVTT0FmNHZLcGI2WUlTNlV1V3k3WGxRIiwiZXBpYy50b2tlbnR5cGUiOiJjb2RlIiwiZXhwIjoxNjEwNzM3NTc0LCJpYXQiOjE2MTA3MzcyNzQsImlzcyI6IkdlbmVyaWMtSHNpIiwianRpIjoiOTZjMDVhMjgtMDQ3OS00OTZiLTk0YWQtZGQzZmI3NmM5NmVmIiwibmJmIjoxNjEwNzM3Mjc0LCJzdWIiOiJlYVU4aS1KNmtYOXFHcmxxb2VOd290dzMifQ.Ee_yxipFie0mm27yBCEYrNZB-A4lISJIhxfM8Vc4WmdSQGeVHJj4Hw9rg7S3N_3P-CmxvjDWAHxUu_PtMMlDih6-XvKGt6K_dLd2VLxaZ2U3_ohGgX_NELbuiVXHpN3F6JU15MAmKNJd2-NbGmRN6ojkXFnczY1tvFLS1hEOWxHIIrtw43-yS90PFZfbHKPfD6dCJ7tb8SpC2U3uEpEr5O_6OsdrCxFIk--F0Go2owltUV8tXptLAB94d6bq_YMCMGmpt5pQjJO8V9BW5EXufoI7fhN2KsqhQBypUUsDZmo-31iu4e-ER42b6vxrGp1el-B5saf820TGchjq8MXLuQ\n",
      "\n",
      "Scopes Granted: Epic.Security.OAuth2.Introspect patient/Observation.c?category=vital-signs patient/Observation.r?category=vital-signs patient/Observation.s?category=vital-signs patient/Patient.r\n"
     ]
    }
   ],
   "source": [
    "authorize_url = \"https://connectathon.epic.com/Interconnect-Fhir-OAuth/oauth2/authorize\"\n",
    "token_url = \"https://connectathon.epic.com/Interconnect-Fhir-OAuth/oauth2/token\"\n",
    "\n",
    "redirect_uri = \"http://localhost:8000/index.html\"\n",
    "\n",
    "client_id = \"GranularConnect2021Scenario2\"\n",
    "\n",
    "scope = \"patient/Observation.rs\"\n",
    "\n",
    "authorization_redirect_url = authorize_url + '?response_type=code&client_id=' + client_id + '&redirect_uri=' + redirect_uri + '&scope=' + scope\n",
    "    \n",
    "print(\"Navigate to: \", authorization_redirect_url + \"\\n\")\n",
    "    \n",
    "authorization_code = input('authz code: ')\n",
    "    \n",
    "headers = {'Content-Type': 'application/x-www-form-urlencoded', 'Accept': 'application/json'}\n",
    "data = {'grant_type': 'authorization_code', 'code': authorization_code, 'redirect_uri': redirect_uri, 'client_id': client_id}\n",
    "access_token_response = requests.post(token_url, data=data, headers=headers)\n",
    "\n",
    "print(\"\\nScopes Granted: \" + access_token_response.json()['scope'])"
   ]
  },
  {
   "cell_type": "markdown",
   "metadata": {},
   "source": [
    "`Epic` does not support scoping a client for all Observations:"
   ]
  },
  {
   "cell_type": "code",
   "execution_count": 14,
   "metadata": {},
   "outputs": [
    {
     "name": "stdout",
     "output_type": "stream",
     "text": [
      "<Response [400]>\n"
     ]
    }
   ],
   "source": [
    "headers = {\"Authorization\" : \"Bearer \" + access_token_response.json()['access_token']}\n",
    "data_request_response = requests.get(\"{}Observation?patient={}\".format(EPIC_BASE_URL, TEST_PATIENT_ID), headers=headers)\n",
    "\n",
    "print(data_request_response)"
   ]
  },
  {
   "cell_type": "markdown",
   "metadata": {},
   "source": [
    "But requesting a specific category like `vital-signs` works:"
   ]
  },
  {
   "cell_type": "code",
   "execution_count": 13,
   "metadata": {},
   "outputs": [
    {
     "name": "stdout",
     "output_type": "stream",
     "text": [
      "<Response [200]>\n"
     ]
    }
   ],
   "source": [
    "headers = {\"Authorization\" : \"Bearer \" + access_token_response.json()['access_token']}\n",
    "data_request_response = requests.get(\"{}Observation?patient={}&category=vital-signs\".format(EPIC_BASE_URL, TEST_PATIENT_ID), headers=headers)\n",
    "\n",
    "print(data_request_response)"
   ]
  },
  {
   "cell_type": "markdown",
   "metadata": {},
   "source": [
    "## Scenario 2"
   ]
  },
  {
   "cell_type": "code",
   "execution_count": 15,
   "metadata": {},
   "outputs": [
    {
     "name": "stdout",
     "output_type": "stream",
     "text": [
      "Navigate to:  https://connectathon.epic.com/Interconnect-Fhir-OAuth/oauth2/authorize?response_type=code&client_id=GranularConnect2021Scenario2&redirect_uri=http://localhost:8000/index.html&scope=patient/Observation.read%20patient%2FObservation.rs%3Fcategory%3Dhttp%3A%2F%2Fterminology.hl7.org%2FCodeSystem%2Fobservation-category%7Cvital-signs%20patient%2FObservation.crs%3Fcategory%3Dhttp%3A%2F%2Fterminology.hl7.org%2FCodeSystem%2Fobservation-category%7Cvital-signs\n",
      "\n",
      "authz code: eyJhbGciOiJSUzI1NiIsInR5cCI6IkpXVCJ9.eyJhdWQiOiJHZW5lcmljLUhzaSIsImNsaWVudF9pZCI6IkdyYW51bGFyQ29ubmVjdDIwMjFTY2VuYXJpbzIiLCJlcGljLmVjaSI6InVybjplcGljOkN1cnJlbnQtQ29ubmVjdGF0aG9uIiwiZXBpYy5tZXRhZGF0YSI6IldiX1p4WWhOM3k5bjZSOVlPQlRoNWNjeDFxaXFiUXdQVlpNYzRuMmxyVllRRVRFY3ZJYjZsWGdGbmdFS0pteWpOLXdULXpDbXZuZm01SzlsLVhDWE96aFozeE5GWmh6SU0tMEJWNVU5eUdvT05MZ2ZuWWlwcUwtRUdIaURVRW1qIiwiZXBpYy50b2tlbnR5cGUiOiJjb2RlIiwiZXhwIjoxNjEwNzM4MzUyLCJpYXQiOjE2MTA3MzgwNTIsImlzcyI6IkdlbmVyaWMtSHNpIiwianRpIjoiM2FlNWRlM2ItOWVmNy00MTZlLWExN2ItOGJkYjg5MzBjODBkIiwibmJmIjoxNjEwNzM4MDUyLCJzdWIiOiJlYVU4aS1KNmtYOXFHcmxxb2VOd290dzMifQ.dMY3EhUZVLcyxplIUSkjzJzBFIDyHs9uafKp1kwojlByWzN7Z8unBhksQkdPfWu6Ka80FtG456tigJgdHJuw7Q3lbwHh7szG6-XFnKeE30EJ92TS6cRAjzg4dQqRm2mJ1s9WdkIOfQdXrePxHMv8EXc-VhbIz3ML-Bdq03r_pYFYfxo_woeomtuU3DXnka87dd5EZANVtxjbY0iSrp1Coe9JMYMxncZAG4TFCzEQDgR5mgtBIBUptT_bWoLm10ovynjRi8FKEudP0JO27MSVNfc5N8Abb7OR8OXT8key9XA_cz0jjH6SRdOWspzIBc6y1uZzQQs3wso5tTDmcHWQ5g\n",
      "\n",
      "Scopes Granted: Epic.Security.OAuth2.Introspect patient/Observation.c?category=vital-signs patient/Observation.r?category=vital-signs patient/Observation.s?category=vital-signs patient/Patient.r\n"
     ]
    }
   ],
   "source": [
    "authorize_url = \"https://connectathon.epic.com/Interconnect-Fhir-OAuth/oauth2/authorize\"\n",
    "token_url = \"https://connectathon.epic.com/Interconnect-Fhir-OAuth/oauth2/token\"\n",
    "\n",
    "redirect_uri = \"http://localhost:8000/index.html\"\n",
    "\n",
    "client_id = \"GranularConnect2021Scenario2\"\n",
    "\n",
    "scope = \"patient/Observation.read%20patient%2FObservation.rs%3Fcategory%3Dhttp%3A%2F%2Fterminology.hl7.org%2FCodeSystem%2Fobservation-category%7Cvital-signs%20patient%2FObservation.crs%3Fcategory%3Dhttp%3A%2F%2Fterminology.hl7.org%2FCodeSystem%2Fobservation-category%7Cvital-signs\"\n",
    "\n",
    "authorization_redirect_url = authorize_url + '?response_type=code&client_id=' + client_id + '&redirect_uri=' + redirect_uri + '&scope=' + scope\n",
    "    \n",
    "print(\"Navigate to: \", authorization_redirect_url + \"\\n\")\n",
    "    \n",
    "authorization_code = input('authz code: ')\n",
    "    \n",
    "headers = {'Content-Type': 'application/x-www-form-urlencoded', 'Accept': 'application/json'}\n",
    "data = {'grant_type': 'authorization_code', 'code': authorization_code, 'redirect_uri': redirect_uri, 'client_id': client_id}\n",
    "access_token_response = requests.post(token_url, data=data, headers=headers)\n",
    "\n",
    "print(\"\\nScopes Granted: \" + access_token_response.json()['scope'])"
   ]
  },
  {
   "cell_type": "markdown",
   "metadata": {},
   "source": [
    "Expect to recieve `Observation` `vital-signs` for the test patient ✔️:"
   ]
  },
  {
   "cell_type": "code",
   "execution_count": 19,
   "metadata": {},
   "outputs": [
    {
     "name": "stdout",
     "output_type": "stream",
     "text": [
      "{\"resourceType\":\"Bundle\",\"type\":\"searchset\",\"total\":6,\"link\":[{\"relation\":\"self\",\"url\":\"https://connectathon.epic.com/Interconnect-Fhir-OAuth/api/FHIR/R4/Observation?patient=e0VZT8JQnSYBU1u97nG6L3A3&category=vital-signs\"}],\"entry\":[{\"link\":[{\"relation\":\"self\",\"url\":\"https://connectathon.epic.com/Interconnect-Fhir-OAuth/api/FHIR/R4/Observation/eYRMTbELmM8-l7bTcQjS-CbmlVWsGYnUH7mHUOMDeW9O371V9Vz97Ow-0hKoIPGQ8pQguRAJYHpFr7uAGWo.iCA3\"}],\"fullUrl\":\"https://connectathon.epic.com/Interconnect-Fhir-OAuth/api/FHIR/R4/Observation/eYRMTbELmM8-l7bTcQjS-CbmlVWsGYnUH7mHUOMDeW9O371V9Vz97Ow-0hKoIPGQ8pQguRAJYHpFr7uAGWo.iCA3\",\"resource\":{\"resourceType\":\"Observation\",\"id\":\"eYRMTbELmM8-l7bTcQjS-CbmlVWsGYnUH7mHUOMDeW9O371V9Vz97Ow-0hKoIPGQ8pQguRAJYHpFr7uAGWo.iCA3\",\"status\":\"final\",\"category\":[{\"coding\":[{\"system\":\"http://terminology.hl7.org/CodeSystem/observation-category\",\"code\":\"vital-signs\",\"display\":\"Vital Signs\"}],\"text\":\"Vital Signs\"}],\"code\":{\"coding\":[{\"system\":\"urn:oid:1.2.840.114350.1.13.1.1.7.2.707679\",\"code\":\"5\",\"display\":\"Blood Pressure\"},{\"system\":\"http://open.epic.com/FHIR/StructureDefinition/observation-flowsheet-id\",\"code\":\"tK.3GdpCnBjtUSc8i9O-JVA0\",\"display\":\"Blood Pressure\"},{\"system\":\"urn:oid:1.2.246.537.6.96\",\"code\":\"8462-4\"},{\"system\":\"urn:oid:1.2.246.537.6.96\",\"code\":\"8480-6\"},{\"system\":\"http://loinc.org\",\"code\":\"55284-4\",\"display\":\"Blood pressure systolic and diastolic\"},{\"system\":\"http://loinc.org\",\"code\":\"85354-9\",\"display\":\"Blood pressure panel with all children optional\"},{\"system\":\"http://loinc.org\",\"code\":\"8716-3\",\"display\":\"Vital signs\"}],\"text\":\"Blood Pressure\"},\"subject\":{\"reference\":\"Patient/e0VZT8JQnSYBU1u97nG6L3A3\",\"display\":\"Granularscopes, Twentytwentyone\"},\"encounter\":{\"reference\":\"Encounter/eZ1gXP0km1uwwK2t7j7ZM-3.flbVCsasCgin9oaYoN1E3\"},\"effectiveDateTime\":\"2021-01-13T18:52:00Z\",\"issued\":\"2021-01-13T18:53:41Z\",\"performer\":[{\"reference\":\"Practitioner/euJOUNeZyX6mofWELWG0Ibg3\",\"display\":\"Dr. S Provider\"}],\"component\":[{\"code\":{\"coding\":[{\"system\":\"http://loinc.org\",\"code\":\"8480-6\",\"display\":\"Systolic blood pressure\"}],\"text\":\"Systolic blood pressure\"},\"valueQuantity\":{\"value\":180,\"unit\":\"mm[Hg]\",\"system\":\"http://unitsofmeasure.org\",\"code\":\"mm[Hg]\"}},{\"code\":{\"coding\":[{\"system\":\"http://loinc.org\",\"code\":\"8462-4\",\"display\":\"Diastolic blood pressure\"}],\"text\":\"Diastolic blood pressure\"},\"valueQuantity\":{\"value\":41,\"unit\":\"mm[Hg]\",\"system\":\"http://unitsofmeasure.org\",\"code\":\"mm[Hg]\"}}]},\"search\":{\"mode\":\"match\"}},{\"link\":[{\"relation\":\"self\",\"url\":\"https://connectathon.epic.com/Interconnect-Fhir-OAuth/api/FHIR/R4/Observation/eYRMTbELmM8-l7bTcQjS-CbmlVWsGYnUH7mHUOMDeW9NDtvr1UDBfb1MYL-N5ALWbtRdz3shAdIEGZRenazRdhA3\"}],\"fullUrl\":\"https://connectathon.epic.com/Interconnect-Fhir-OAuth/api/FHIR/R4/Observation/eYRMTbELmM8-l7bTcQjS-CbmlVWsGYnUH7mHUOMDeW9NDtvr1UDBfb1MYL-N5ALWbtRdz3shAdIEGZRenazRdhA3\",\"resource\":{\"resourceType\":\"Observation\",\"id\":\"eYRMTbELmM8-l7bTcQjS-CbmlVWsGYnUH7mHUOMDeW9NDtvr1UDBfb1MYL-N5ALWbtRdz3shAdIEGZRenazRdhA3\",\"extension\":[{\"valueQuantity\":{\"value\":97,\"unit\":\"[degF]\",\"system\":\"http://unitsofmeasure.org\",\"code\":\"[degF]\"},\"url\":\"http://open.epic.com/FHIR/STU3/StructureDefinition/temperature-in-fahrenheit\"}],\"status\":\"final\",\"category\":[{\"coding\":[{\"system\":\"http://terminology.hl7.org/CodeSystem/observation-category\",\"code\":\"vital-signs\",\"display\":\"Vital Signs\"}],\"text\":\"Vital Signs\"}],\"code\":{\"coding\":[{\"system\":\"urn:oid:1.2.840.114350.1.13.1.1.7.2.707679\",\"code\":\"6\",\"display\":\"Temperature\"},{\"system\":\"http://open.epic.com/FHIR/StructureDefinition/observation-flowsheet-id\",\"code\":\"tF.FdMyA8hPLtPxLT9qy.jw0\",\"display\":\"Temperature\"},{\"system\":\"urn:oid:1.2.246.537.6.96\",\"code\":\"8310-5\"},{\"system\":\"http://loinc.org\",\"code\":\"8310-5\",\"display\":\"Body temperature\"},{\"system\":\"http://loinc.org\",\"code\":\"8716-3\",\"display\":\"Vital signs\"}],\"text\":\"Temperature\"},\"subject\":{\"reference\":\"Patient/e0VZT8JQnSYBU1u97nG6L3A3\",\"display\":\"Granularscopes, Twentytwentyone\"},\"encounter\":{\"reference\":\"Encounter/eZ1gXP0km1uwwK2t7j7ZM-3.flbVCsasCgin9oaYoN1E3\"},\"effectiveDateTime\":\"2021-01-13T18:52:00Z\",\"issued\":\"2021-01-13T18:53:41Z\",\"performer\":[{\"reference\":\"Practitioner/euJOUNeZyX6mofWELWG0Ibg3\",\"display\":\"Dr. S Provider\"}],\"valueQuantity\":{\"value\":36.1,\"unit\":\"Cel\",\"system\":\"http://unitsofmeasure.org\",\"code\":\"Cel\"}},\"search\":{\"mode\":\"match\"}},{\"link\":[{\"relation\":\"self\",\"url\":\"https://connectathon.epic.com/Interconnect-Fhir-OAuth/api/FHIR/R4/Observation/eYRMTbELmM8-l7bTcQjS-CbmlVWsGYnUH7mHUOMDeW9OzpZNcY4ZCQBpRc0vNcEQXr.IIfroOPG-xr-pVvwvJmg3\"}],\"fullUrl\":\"https://connectathon.epic.com/Interconnect-Fhir-OAuth/api/FHIR/R4/Observation/eYRMTbELmM8-l7bTcQjS-CbmlVWsGYnUH7mHUOMDeW9OzpZNcY4ZCQBpRc0vNcEQXr.IIfroOPG-xr-pVvwvJmg3\",\"resource\":{\"resourceType\":\"Observation\",\"id\":\"eYRMTbELmM8-l7bTcQjS-CbmlVWsGYnUH7mHUOMDeW9OzpZNcY4ZCQBpRc0vNcEQXr.IIfroOPG-xr-pVvwvJmg3\",\"status\":\"final\",\"category\":[{\"coding\":[{\"system\":\"http://terminology.hl7.org/CodeSystem/observation-category\",\"code\":\"vital-signs\",\"display\":\"Vital Signs\"}],\"text\":\"Vital Signs\"}],\"code\":{\"coding\":[{\"system\":\"urn:oid:1.2.840.114350.1.13.1.1.7.2.707679\",\"code\":\"8\",\"display\":\"Pulse\"},{\"system\":\"http://open.epic.com/FHIR/StructureDefinition/observation-flowsheet-id\",\"code\":\"tR5NeDSslttZhaU4OxE49Lw0\",\"display\":\"Pulse\"},{\"system\":\"urn:oid:1.2.246.537.6.96\",\"code\":\"8867-4\"},{\"system\":\"http://loinc.org\",\"code\":\"8716-3\",\"display\":\"Vital signs\"},{\"system\":\"http://loinc.org\",\"code\":\"8867-4\",\"display\":\"Heart rate\"}],\"text\":\"Pulse\"},\"subject\":{\"reference\":\"Patient/e0VZT8JQnSYBU1u97nG6L3A3\",\"display\":\"Granularscopes, Twentytwentyone\"},\"encounter\":{\"reference\":\"Encounter/eZ1gXP0km1uwwK2t7j7ZM-3.flbVCsasCgin9oaYoN1E3\"},\"effectiveDateTime\":\"2021-01-13T18:52:00Z\",\"issued\":\"2021-01-13T18:53:41Z\",\"performer\":[{\"reference\":\"Practitioner/euJOUNeZyX6mofWELWG0Ibg3\",\"display\":\"Dr. S Provider\"}],\"valueQuantity\":{\"value\":98,\"unit\":\"/min\",\"system\":\"http://unitsofmeasure.org\",\"code\":\"/min\"}},\"search\":{\"mode\":\"match\"}},{\"link\":[{\"relation\":\"self\",\"url\":\"https://connectathon.epic.com/Interconnect-Fhir-OAuth/api/FHIR/R4/Observation/eYRMTbELmM8-l7bTcQjS-CbmlVWsGYnUH7mHUOMDeW9PqrkGz8aFBHu272bm9YIKex3pSBhr2z0brSRWoABenfg3\"}],\"fullUrl\":\"https://connectathon.epic.com/Interconnect-Fhir-OAuth/api/FHIR/R4/Observation/eYRMTbELmM8-l7bTcQjS-CbmlVWsGYnUH7mHUOMDeW9PqrkGz8aFBHu272bm9YIKex3pSBhr2z0brSRWoABenfg3\",\"resource\":{\"resourceType\":\"Observation\",\"id\":\"eYRMTbELmM8-l7bTcQjS-CbmlVWsGYnUH7mHUOMDeW9PqrkGz8aFBHu272bm9YIKex3pSBhr2z0brSRWoABenfg3\",\"status\":\"final\",\"category\":[{\"coding\":[{\"system\":\"http://terminology.hl7.org/CodeSystem/observation-category\",\"code\":\"vital-signs\",\"display\":\"Vital Signs\"}],\"text\":\"Vital Signs\"}],\"code\":{\"coding\":[{\"system\":\"urn:oid:1.2.840.114350.1.13.1.1.7.2.707679\",\"code\":\"10\",\"display\":\"SpO2\"},{\"system\":\"http://open.epic.com/FHIR/StructureDefinition/observation-flowsheet-id\",\"code\":\"tsHvprx4YsljlMO4V2E9z1g0\",\"display\":\"SpO2\"},{\"system\":\"urn:oid:1.2.246.537.6.96\",\"code\":\"59417-6\"},{\"system\":\"http://loinc.org\",\"code\":\"2710-2\",\"display\":\"Oxygen saturation in Capillary blood by Oximetry\"},{\"system\":\"http://loinc.org\",\"code\":\"59408-5\",\"display\":\"Oxygen saturation in Arterial blood by Pulse oximetry\"},{\"system\":\"http://loinc.org\",\"code\":\"8716-3\",\"display\":\"Vital signs\"}],\"text\":\"SpO2\"},\"subject\":{\"reference\":\"Patient/e0VZT8JQnSYBU1u97nG6L3A3\",\"display\":\"Granularscopes, Twentytwentyone\"},\"encounter\":{\"reference\":\"Encounter/eZ1gXP0km1uwwK2t7j7ZM-3.flbVCsasCgin9oaYoN1E3\"},\"effectiveDateTime\":\"2021-01-13T18:52:00Z\",\"issued\":\"2021-01-13T18:53:41Z\",\"performer\":[{\"reference\":\"Practitioner/euJOUNeZyX6mofWELWG0Ibg3\",\"display\":\"Dr. S Provider\"}],\"valueQuantity\":{\"value\":99,\"unit\":\"%\",\"system\":\"http://unitsofmeasure.org\",\"code\":\"%\"}},\"search\":{\"mode\":\"match\"}},{\"link\":[{\"relation\":\"self\",\"url\":\"https://connectathon.epic.com/Interconnect-Fhir-OAuth/api/FHIR/R4/Observation/eYRMTbELmM8-l7bTcQjS-CbmlVWsGYnUH7mHUOMDeW9OHpxDHhBoFdtoCyLrXzbz3pyzfVORwjN6pMSnrEQN1vg3\"}],\"fullUrl\":\"https://connectathon.epic.com/Interconnect-Fhir-OAuth/api/FHIR/R4/Observation/eYRMTbELmM8-l7bTcQjS-CbmlVWsGYnUH7mHUOMDeW9OHpxDHhBoFdtoCyLrXzbz3pyzfVORwjN6pMSnrEQN1vg3\",\"resource\":{\"resourceType\":\"Observation\",\"id\":\"eYRMTbELmM8-l7bTcQjS-CbmlVWsGYnUH7mHUOMDeW9OHpxDHhBoFdtoCyLrXzbz3pyzfVORwjN6pMSnrEQN1vg3\",\"status\":\"final\",\"category\":[{\"coding\":[{\"system\":\"http://terminology.hl7.org/CodeSystem/observation-category\",\"code\":\"vital-signs\",\"display\":\"Vital Signs\"}],\"text\":\"Vital Signs\"}],\"code\":{\"coding\":[{\"system\":\"urn:oid:1.2.840.114350.1.13.1.1.7.2.707679\",\"code\":\"11\",\"display\":\"Height\"},{\"system\":\"http://open.epic.com/FHIR/StructureDefinition/observation-flowsheet-id\",\"code\":\"tMrf27gBGW3Sbi4ukIIAgrQ0\",\"display\":\"Height\"},{\"system\":\"urn:oid:1.2.246.537.6.96\",\"code\":\"8302-2\"},{\"system\":\"http://loinc.org\",\"code\":\"8302-2\",\"display\":\"Body height\"},{\"system\":\"http://loinc.org\",\"code\":\"8716-3\",\"display\":\"Vital signs\"}],\"text\":\"Height\"},\"subject\":{\"reference\":\"Patient/e0VZT8JQnSYBU1u97nG6L3A3\",\"display\":\"Granularscopes, Twentytwentyone\"},\"encounter\":{\"reference\":\"Encounter/eZ1gXP0km1uwwK2t7j7ZM-3.flbVCsasCgin9oaYoN1E3\"},\"effectiveDateTime\":\"2021-01-13T18:52:00Z\",\"issued\":\"2021-01-13T18:53:41Z\",\"performer\":[{\"reference\":\"Practitioner/euJOUNeZyX6mofWELWG0Ibg3\",\"display\":\"Dr. S Provider\"}],\"valueQuantity\":{\"value\":177.8,\"unit\":\"cm\",\"system\":\"http://unitsofmeasure.org\",\"code\":\"cm\"}},\"search\":{\"mode\":\"match\"}},{\"link\":[{\"relation\":\"self\",\"url\":\"https://connectathon.epic.com/Interconnect-Fhir-OAuth/api/FHIR/R4/Observation/eYRMTbELmM8-l7bTcQjS-CbmlVWsGYnUH7mHUOMDeW9MX.MjS68oK9HpEtW7Zvb7aUmNItbFMs2Iuig-WeaHC-w3\"}],\"fullUrl\":\"https://connectathon.epic.com/Interconnect-Fhir-OAuth/api/FHIR/R4/Observation/eYRMTbELmM8-l7bTcQjS-CbmlVWsGYnUH7mHUOMDeW9MX.MjS68oK9HpEtW7Zvb7aUmNItbFMs2Iuig-WeaHC-w3\",\"resource\":{\"resourceType\":\"Observation\",\"id\":\"eYRMTbELmM8-l7bTcQjS-CbmlVWsGYnUH7mHUOMDeW9MX.MjS68oK9HpEtW7Zvb7aUmNItbFMs2Iuig-WeaHC-w3\",\"status\":\"final\",\"category\":[{\"coding\":[{\"system\":\"http://terminology.hl7.org/CodeSystem/observation-category\",\"code\":\"vital-signs\",\"display\":\"Vital Signs\"}],\"text\":\"Vital Signs\"}],\"code\":{\"coding\":[{\"system\":\"urn:oid:1.2.840.114350.1.13.1.1.7.2.707679\",\"code\":\"14\",\"display\":\"Weight\"},{\"system\":\"http://open.epic.com/FHIR/StructureDefinition/observation-flowsheet-id\",\"code\":\"ttjlASTxfaxgiecvotrb78w0\",\"display\":\"Weight\"},{\"system\":\"urn:oid:1.2.246.537.6.96\",\"code\":\"29463-7\"},{\"system\":\"http://loinc.org\",\"code\":\"29463-7\",\"display\":\"Body weight\"},{\"system\":\"http://loinc.org\",\"code\":\"3141-9\",\"display\":\"Body weight Measured\"},{\"system\":\"http://loinc.org\",\"code\":\"8716-3\",\"display\":\"Vital signs\"}],\"text\":\"Weight\"},\"subject\":{\"reference\":\"Patient/e0VZT8JQnSYBU1u97nG6L3A3\",\"display\":\"Granularscopes, Twentytwentyone\"},\"encounter\":{\"reference\":\"Encounter/eZ1gXP0km1uwwK2t7j7ZM-3.flbVCsasCgin9oaYoN1E3\"},\"effectiveDateTime\":\"2021-01-13T18:52:00Z\",\"issued\":\"2021-01-13T18:53:41Z\",\"performer\":[{\"reference\":\"Practitioner/euJOUNeZyX6mofWELWG0Ibg3\",\"display\":\"Dr. S Provider\"}],\"valueQuantity\":{\"value\":81.6,\"unit\":\"kg\",\"system\":\"http://unitsofmeasure.org\",\"code\":\"kg\"}},\"search\":{\"mode\":\"match\"}},{\"resource\":{\"resourceType\":\"OperationOutcome\",\"issue\":[{\"severity\":\"warning\",\"code\":\"processing\",\"details\":{\"coding\":[{\"system\":\"urn:oid:1.2.840.114350.1.13.1.1.7.2.657369\",\"code\":\"4119\",\"display\":\"This response includes information available to the authorized user at the time of the request. It may not contain the entire record available in the system.\"}],\"text\":\"This response includes information available to the authorized user at the time of the request. It may not contain the entire record available in the system.\"}}]},\"search\":{\"mode\":\"outcome\"}}]}\n"
     ]
    }
   ],
   "source": [
    "headers = {\"Accept\" : \"application/fhir+json\", \"Authorization\" : \"Bearer \" + access_token_response.json()['access_token']}\n",
    "data_request_response = requests.get(\"{}Observation?patient={}&category=vital-signs\".format(EPIC_BASE_URL, TEST_PATIENT_ID), headers=headers)\n",
    "\n",
    "print(data_request_response.text)"
   ]
  },
  {
   "cell_type": "markdown",
   "metadata": {},
   "source": [
    "## Scenario 4"
   ]
  },
  {
   "cell_type": "code",
   "execution_count": 33,
   "metadata": {},
   "outputs": [
    {
     "name": "stdout",
     "output_type": "stream",
     "text": [
      "Navigate to:  https://connectathon.epic.com/Interconnect-Fhir-OAuth/oauth2/authorize?client_id=GranularConnect2021Scenario2&response_type=code&scope=patient/Patient.r&redirect_uri=http://localhost:8000/index.html&code_verifier=2cf24dba5fb0a30e26e83b2ac5b9e29e1b161e5c1fa7425e73043362938b9824&code_challenge_method=S256\n",
      "\n",
      "authz code: eyJhbGciOiJSUzI1NiIsInR5cCI6IkpXVCJ9.eyJhdWQiOiJHZW5lcmljLUhzaSIsImNsaWVudF9pZCI6IkdyYW51bGFyQ29ubmVjdDIwMjFTY2VuYXJpbzIiLCJlcGljLmVjaSI6InVybjplcGljOkN1cnJlbnQtQ29ubmVjdGF0aG9uIiwiZXBpYy5tZXRhZGF0YSI6IlpMeThlMWlDaVBPMVVmQmVzRU5INHI0NmxyODZjSHNVWDdmQmQzYkdtdUJLM0U2VGxKNkV0VjQtMUJWN1ItUnNEYnRSemh6YjJWYzJaMEl4dmdIdlZyRnVub2FTcEFibUZyUGp6NC1fc1dZMEs3TTFXNVdFc3FVOHh3WlFpQ2diIiwiZXBpYy50b2tlbnR5cGUiOiJjb2RlIiwiZXhwIjoxNjEwNzQwMzI4LCJpYXQiOjE2MTA3NDAwMjgsImlzcyI6IkdlbmVyaWMtSHNpIiwianRpIjoiMTY1ZDI1OWItMmEzOS00MjBkLWFjZjAtNDcyMWY5ZTk3OTIzIiwibmJmIjoxNjEwNzQwMDI4LCJzdWIiOiJlYVU4aS1KNmtYOXFHcmxxb2VOd290dzMifQ.PTg7JJmzBNE9AeraUk37G4KKBk4Ex945eSsz6EX8DuIxKg9tyD4g_l5GJhLz7XUR-Xf4kc9l42VBjPF5U6tB6tQJe5jVS9xjrMTxjapR9J6HiagkZQXuanegAr1GT_PtkMINYcaIbgXJIxV1wggJBptuun3QU3DaDPjaOxiy4n1yLCYh3E6vmS-wg8_6mw4zMRo7HA6DiCVh3NKT4mkHMrDWTqyLvQubuRq2Blf_7io5JH8Chz-CyMWP7AhUT_WjmkjcT7HsG_NPlk-Q5yV2u4HNP7m_Ryvs98plRCJ3cReOqW99SpD6qiK7KklPjcL3yxAuAyYidg5sCJqYOqus9A\n"
     ]
    },
    {
     "ename": "KeyError",
     "evalue": "'scope'",
     "output_type": "error",
     "traceback": [
      "\u001b[1;31m---------------------------------------------------------------------------\u001b[0m",
      "\u001b[1;31mKeyError\u001b[0m                                  Traceback (most recent call last)",
      "\u001b[1;32m<ipython-input-33-ba03e21093bc>\u001b[0m in \u001b[0;36m<module>\u001b[1;34m\u001b[0m\n\u001b[0;32m     27\u001b[0m \u001b[0maccess_token_response\u001b[0m \u001b[1;33m=\u001b[0m \u001b[0mrequests\u001b[0m\u001b[1;33m.\u001b[0m\u001b[0mpost\u001b[0m\u001b[1;33m(\u001b[0m\u001b[0mtoken_url\u001b[0m\u001b[1;33m,\u001b[0m \u001b[0mdata\u001b[0m\u001b[1;33m=\u001b[0m\u001b[0mdata\u001b[0m\u001b[1;33m,\u001b[0m \u001b[0mheaders\u001b[0m\u001b[1;33m=\u001b[0m\u001b[0mheaders\u001b[0m\u001b[1;33m)\u001b[0m\u001b[1;33m\u001b[0m\u001b[1;33m\u001b[0m\u001b[0m\n\u001b[0;32m     28\u001b[0m \u001b[1;33m\u001b[0m\u001b[0m\n\u001b[1;32m---> 29\u001b[1;33m \u001b[0mprint\u001b[0m\u001b[1;33m(\u001b[0m\u001b[1;34m\"\\nScopes Granted: \"\u001b[0m \u001b[1;33m+\u001b[0m \u001b[0maccess_token_response\u001b[0m\u001b[1;33m.\u001b[0m\u001b[0mjson\u001b[0m\u001b[1;33m(\u001b[0m\u001b[1;33m)\u001b[0m\u001b[1;33m[\u001b[0m\u001b[1;34m'scope'\u001b[0m\u001b[1;33m]\u001b[0m\u001b[1;33m)\u001b[0m\u001b[1;33m\u001b[0m\u001b[1;33m\u001b[0m\u001b[0m\n\u001b[0m",
      "\u001b[1;31mKeyError\u001b[0m: 'scope'"
     ]
    }
   ],
   "source": [
    "authorize_url = \"https://connectathon.epic.com/Interconnect-Fhir-OAuth/oauth2/authorize\"\n",
    "token_url = \"https://connectathon.epic.com/Interconnect-Fhir-OAuth/oauth2/token\"\n",
    "\n",
    "redirect_uri = \"http://localhost:8000/index.html\"\n",
    "\n",
    "client_id = \"GranularConnect2021Scenario2\"\n",
    "\n",
    "scope = \"patient/Observation.read%20patient%2FObservation.rs%3Fcategory%3Dhttp%3A%2F%2Fterminology.hl7.org%2FCodeSystem%2Fobservation-category%7Cvital-signs%20patient%2FObservation.crs%3Fcategory%3Dhttp%3A%2F%2Fterminology.hl7.org%2FCodeSystem%2Fobservation-category%7Cvital-signs\"\n",
    "\n",
    "code_verifier = \"hello\"\n",
    "code_challenge_method = \"S256\"\n",
    "code_challenge = sha256(code_verifier.encode()).hexdigest()\n",
    "    \n",
    "authorization_redirect_url = \"{}?client_id={}&response_type=code&scope={}&redirect_uri={}&code_verifier={}&code_challenge_method={}\".format(authorize_url, \n",
    "                                                                                                                                                  client_id, \n",
    "                                                                                                                                                  scopes, \n",
    "                                                                                                                                                  redirect_uri,\n",
    "                                                                                                                                                  code_challenge,\n",
    "                                                                                                                                                  code_challenge_method)    \n",
    "\n",
    "print(\"Navigate to: \", authorization_redirect_url + \"\\n\")\n",
    "    \n",
    "authorization_code = input('authz code: ')\n",
    "    \n",
    "headers = {'Content-Type': 'application/x-www-form-urlencoded', 'Accept': 'application/json'}\n",
    "data = {'grant_type': 'authorization_code', 'code': authorization_code, 'redirect_uri': redirect_uri, 'client_id': client_id, \"code_verifier\" : code_verifier}\n",
    "access_token_response = requests.post(token_url, data=data, headers=headers)\n",
    "\n",
    "print(\"\\nScopes Granted: \" + access_token_response.json()['scope'])"
   ]
  },
  {
   "cell_type": "code",
   "execution_count": 34,
   "metadata": {},
   "outputs": [
    {
     "data": {
      "text/plain": [
       "'{\\r\\n  \"error\": \"invalid_grant\",\\r\\n  \"error_description\": null\\r\\n}'"
      ]
     },
     "execution_count": 34,
     "metadata": {},
     "output_type": "execute_result"
    }
   ],
   "source": [
    "access_token_response.text"
   ]
  }
 ],
 "metadata": {
  "kernelspec": {
   "display_name": "Python 3",
   "language": "python",
   "name": "python3"
  }
 },
 "nbformat": 4,
 "nbformat_minor": 2
}
