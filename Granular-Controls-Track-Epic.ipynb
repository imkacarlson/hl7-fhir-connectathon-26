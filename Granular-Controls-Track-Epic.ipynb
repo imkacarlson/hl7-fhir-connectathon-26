{
 "cells": [
  {
   "cell_type": "code",
   "execution_count": 2,
   "metadata": {},
   "outputs": [],
   "source": [
    "import requests"
   ]
  },
  {
   "cell_type": "markdown",
   "metadata": {},
   "source": [
    "# Using Epic Test Server"
   ]
  },
  {
   "cell_type": "code",
   "execution_count": 9,
   "metadata": {},
   "outputs": [],
   "source": [
    "EPIC_BASE_URL = \"https://connectathon.epic.com/interconnect-fhir-oauth/api/FHIR/R4/\"\n",
    "TEST_PATIENT_ID = \"e0VZT8JQnSYBU1u97nG6L3A3\""
   ]
  },
  {
   "cell_type": "markdown",
   "metadata": {},
   "source": [
    "## Scenario 0"
   ]
  },
  {
   "cell_type": "code",
   "execution_count": 5,
   "metadata": {},
   "outputs": [],
   "source": [
    "DISCOVERY_PATH = \".well-known/smart-configuration\""
   ]
  },
  {
   "cell_type": "code",
   "execution_count": 6,
   "metadata": {},
   "outputs": [],
   "source": [
    "epic_config = requests.get(EPIC_BASE_URL + DISCOVERY_PATH)"
   ]
  },
  {
   "cell_type": "markdown",
   "metadata": {},
   "source": [
    "- Payload includes `permission_v2` and `authorize-post` capabilities ✔️\n",
    "- `code_challenge_methods_supported` includes `S256` ✔️\n",
    "- `introscpection_endpoint` included ✔️"
   ]
  },
  {
   "cell_type": "code",
   "execution_count": 7,
   "metadata": {},
   "outputs": [
    {
     "data": {
      "text/plain": [
       "'<discovery xmlns=\"http://hl7.org/fhir\"><authorization_endpoint value=\"https://connectathon.epic.com/Interconnect-Fhir-OAuth/oauth2/authorize\" /><token_endpoint value=\"https://connectathon.epic.com/Interconnect-Fhir-OAuth/oauth2/token\" /><token_endpoint_auth_methods_supported value=\"client_secret_post\" /><token_endpoint_auth_methods_supported value=\"client_secret_basic\" /><token_endpoint_auth_methods_supported value=\"private_key_jwt\" /><scopes_supported value=\"epic.scanning.dmsusername\" /><scopes_supported value=\"fhirUser\" /><scopes_supported value=\"launch\" /><scopes_supported value=\"openid\" /><scopes_supported value=\"profile\" /><response_types_supported value=\"code\" /><introspection_endpoint value=\"https://connectathon.epic.com/Interconnect-Fhir-OAuth/oauth2/introspect\" /><capabilities value=\"launch-ehr\" /><capabilities value=\"launch-standalone\" /><capabilities value=\"client-public\" /><capabilities value=\"client-confidential-symmetric\" /><capabilities value=\"context-banner\" /><capabilities value=\"context-style\" /><capabilities value=\"context-ehr-patient\" /><capabilities value=\"context-ehr-encounter\" /><capabilities value=\"permission-offline\" /><capabilities value=\"permission-patient\" /><capabilities value=\"permission-user\" /><capabilities value=\"authorize-post\" /><capabilities value=\"sso-openid-connect\" /><capabilities value=\"permission-v2\" /><issuer value=\"https://connectathon.epic.com/Interconnect-Fhir-OAuth/oauth2\" /><code_challenge_methods_supported value=\"S256\" /></discovery>'"
      ]
     },
     "execution_count": 7,
     "metadata": {},
     "output_type": "execute_result"
    }
   ],
   "source": [
    "epic_config.text"
   ]
  },
  {
   "cell_type": "markdown",
   "metadata": {},
   "source": [
    "## Scenario 1"
   ]
  },
  {
   "cell_type": "code",
   "execution_count": 8,
   "metadata": {},
   "outputs": [
    {
     "name": "stdout",
     "output_type": "stream",
     "text": [
      "Navigate to:  https://connectathon.epic.com/Interconnect-Fhir-OAuth/oauth2/authorize?response_type=code&client_id=GranularConnect2021Scenario2&redirect_uri=http://localhost:8000/index.html&scope=patient/Observation.rs\n",
      "\n",
      "authz code: eyJhbGciOiJSUzI1NiIsInR5cCI6IkpXVCJ9.eyJhdWQiOiJHZW5lcmljLUhzaSIsImNsaWVudF9pZCI6IkdyYW51bGFyQ29ubmVjdDIwMjFTY2VuYXJpbzIiLCJlcGljLmVjaSI6InVybjplcGljOkN1cnJlbnQtQ29ubmVjdGF0aG9uIiwiZXBpYy5tZXRhZGF0YSI6Il9RMEhTZ01wZkl4UGhkaW13QWJMVlhpb2NoZWFCSTZFWWt2OFdRM05RNWlHazZXSFprWFFSTFhkcUtMSVN4YUtvUnNpQ1BZWnFreWJuOG94QmhqaHREUkwxbDVLdXEtRWdIbFMxTEZoNHVTT0FmNHZLcGI2WUlTNlV1V3k3WGxRIiwiZXBpYy50b2tlbnR5cGUiOiJjb2RlIiwiZXhwIjoxNjEwNzM3NTc0LCJpYXQiOjE2MTA3MzcyNzQsImlzcyI6IkdlbmVyaWMtSHNpIiwianRpIjoiOTZjMDVhMjgtMDQ3OS00OTZiLTk0YWQtZGQzZmI3NmM5NmVmIiwibmJmIjoxNjEwNzM3Mjc0LCJzdWIiOiJlYVU4aS1KNmtYOXFHcmxxb2VOd290dzMifQ.Ee_yxipFie0mm27yBCEYrNZB-A4lISJIhxfM8Vc4WmdSQGeVHJj4Hw9rg7S3N_3P-CmxvjDWAHxUu_PtMMlDih6-XvKGt6K_dLd2VLxaZ2U3_ohGgX_NELbuiVXHpN3F6JU15MAmKNJd2-NbGmRN6ojkXFnczY1tvFLS1hEOWxHIIrtw43-yS90PFZfbHKPfD6dCJ7tb8SpC2U3uEpEr5O_6OsdrCxFIk--F0Go2owltUV8tXptLAB94d6bq_YMCMGmpt5pQjJO8V9BW5EXufoI7fhN2KsqhQBypUUsDZmo-31iu4e-ER42b6vxrGp1el-B5saf820TGchjq8MXLuQ\n",
      "\n",
      "Scopes Granted: Epic.Security.OAuth2.Introspect patient/Observation.c?category=vital-signs patient/Observation.r?category=vital-signs patient/Observation.s?category=vital-signs patient/Patient.r\n"
     ]
    }
   ],
   "source": [
    "authorize_url = \"https://connectathon.epic.com/Interconnect-Fhir-OAuth/oauth2/authorize\"\n",
    "token_url = \"https://connectathon.epic.com/Interconnect-Fhir-OAuth/oauth2/token\"\n",
    "\n",
    "redirect_uri = \"http://localhost:8000/index.html\"\n",
    "\n",
    "client_id = \"GranularConnect2021Scenario2\"\n",
    "\n",
    "scope = \"patient/Observation.rs\"\n",
    "\n",
    "authorization_redirect_url = authorize_url + '?response_type=code&client_id=' + client_id + '&redirect_uri=' + redirect_uri + '&scope=' + scope\n",
    "    \n",
    "print(\"Navigate to: \", authorization_redirect_url + \"\\n\")\n",
    "    \n",
    "authorization_code = input('authz code: ')\n",
    "    \n",
    "headers = {'Content-Type': 'application/x-www-form-urlencoded', 'Accept': 'application/json'}\n",
    "data = {'grant_type': 'authorization_code', 'code': authorization_code, 'redirect_uri': redirect_uri, 'client_id': client_id}\n",
    "access_token_response = requests.post(token_url, data=data, headers=headers)\n",
    "\n",
    "print(\"\\nScopes Granted: \" + access_token_response.json()['scope'])"
   ]
  },
  {
   "cell_type": "markdown",
   "metadata": {},
   "source": [
    "`Epic` does not support scoping a client for all Observations:"
   ]
  },
  {
   "cell_type": "code",
   "execution_count": 14,
   "metadata": {},
   "outputs": [
    {
     "name": "stdout",
     "output_type": "stream",
     "text": [
      "<Response [400]>\n"
     ]
    }
   ],
   "source": [
    "headers = {\"Authorization\" : \"Bearer \" + access_token_response.json()['access_token']}\n",
    "data_request_response = requests.get(\"{}Observation?patient={}\".format(EPIC_BASE_URL, TEST_PATIENT_ID), headers=headers)\n",
    "\n",
    "print(data_request_response)"
   ]
  },
  {
   "cell_type": "markdown",
   "metadata": {},
   "source": [
    "But requesting a specific category like `vital-signs` works:"
   ]
  },
  {
   "cell_type": "code",
   "execution_count": 13,
   "metadata": {},
   "outputs": [
    {
     "name": "stdout",
     "output_type": "stream",
     "text": [
      "<Response [200]>\n"
     ]
    }
   ],
   "source": [
    "headers = {\"Authorization\" : \"Bearer \" + access_token_response.json()['access_token']}\n",
    "data_request_response = requests.get(\"{}Observation?patient={}&category=vital-signs\".format(EPIC_BASE_URL, TEST_PATIENT_ID), headers=headers)\n",
    "\n",
    "print(data_request_response)"
   ]
  }
 ],
 "metadata": {
  "kernelspec": {
   "display_name": "Python 3",
   "language": "python",
   "name": "python3"
  }
 },
 "nbformat": 4,
 "nbformat_minor": 2
}
