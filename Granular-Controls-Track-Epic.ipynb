{
 "cells": [
  {
   "cell_type": "code",
   "execution_count": 1,
   "metadata": {},
   "outputs": [],
   "source": [
    "import requests"
   ]
  },
  {
   "cell_type": "markdown",
   "metadata": {},
   "source": [
    "# Using Epic Test Server"
   ]
  },
  {
   "cell_type": "code",
   "execution_count": 2,
   "metadata": {},
   "outputs": [],
   "source": [
    "EPIC_BASE_URL = \"https://connectathon.epic.com/interconnect-fhir-oauth/api/FHIR/R4/\""
   ]
  },
  {
   "cell_type": "markdown",
   "metadata": {},
   "source": [
    "## Scenario 0"
   ]
  },
  {
   "cell_type": "code",
   "execution_count": 3,
   "metadata": {},
   "outputs": [],
   "source": [
    "DISCOVERY_PATH = \".well-known/smart-configuration\""
   ]
  },
  {
   "cell_type": "code",
   "execution_count": 4,
   "metadata": {},
   "outputs": [],
   "source": [
    "epic_config = requests.get(EPIC_BASE_URL + DISCOVERY_PATH)"
   ]
  },
  {
   "cell_type": "markdown",
   "metadata": {},
   "source": [
    "- Payload includes `permission_v2` and `authorize-post` capabilities ✔️\n",
    "- `code_challenge_methods_supported` includes `S256` ✔️\n",
    "- `introscpection_endpoint` included ✔️"
   ]
  },
  {
   "cell_type": "code",
   "execution_count": 5,
   "metadata": {},
   "outputs": [
    {
     "data": {
      "text/plain": [
       "'<discovery xmlns=\"http://hl7.org/fhir\"><authorization_endpoint value=\"https://connectathon.epic.com/Interconnect-Fhir-OAuth/oauth2/authorize\" /><token_endpoint value=\"https://connectathon.epic.com/Interconnect-Fhir-OAuth/oauth2/token\" /><token_endpoint_auth_methods_supported value=\"client_secret_post\" /><token_endpoint_auth_methods_supported value=\"client_secret_basic\" /><token_endpoint_auth_methods_supported value=\"private_key_jwt\" /><scopes_supported value=\"epic.scanning.dmsusername\" /><scopes_supported value=\"fhirUser\" /><scopes_supported value=\"launch\" /><scopes_supported value=\"openid\" /><scopes_supported value=\"profile\" /><response_types_supported value=\"code\" /><introspection_endpoint value=\"https://connectathon.epic.com/Interconnect-Fhir-OAuth/oauth2/introspect\" /><capabilities value=\"launch-ehr\" /><capabilities value=\"launch-standalone\" /><capabilities value=\"client-public\" /><capabilities value=\"client-confidential-symmetric\" /><capabilities value=\"context-banner\" /><capabilities value=\"context-style\" /><capabilities value=\"context-ehr-patient\" /><capabilities value=\"context-ehr-encounter\" /><capabilities value=\"permission-offline\" /><capabilities value=\"permission-patient\" /><capabilities value=\"permission-user\" /><capabilities value=\"authorize-post\" /><capabilities value=\"sso-openid-connect\" /><capabilities value=\"permission-v2\" /><issuer value=\"https://connectathon.epic.com/Interconnect-Fhir-OAuth/oauth2\" /><code_challenge_methods_supported value=\"S256\" /></discovery>'"
      ]
     },
     "execution_count": 5,
     "metadata": {},
     "output_type": "execute_result"
    }
   ],
   "source": [
    "epic_config.text"
   ]
  },
  {
   "cell_type": "markdown",
   "metadata": {},
   "source": [
    "## Scenario 1"
   ]
  },
  {
   "cell_type": "code",
   "execution_count": null,
   "metadata": {},
   "outputs": [
    {
     "name": "stdout",
     "output_type": "stream",
     "text": [
      "Navigate to:  https://connectathon.epic.com/interconnect-fhir-oauth/oauth2/authorize?client_id=GranularConnect2021Scenario2&response_type=code&redirect_uri=http://localhost:8000/index.html\n",
      "\n"
     ]
    }
   ],
   "source": [
    "authorize_url = \"https://connectathon.epic.com/interconnect-fhir-oauth/oauth2/authorize\"\n",
    "token_url = \"https://connectathon.epic.com/interconnect-fhir-oauth/oauth2/token\"\n",
    "\n",
    "redirect_uri = \"http://localhost:8000/index.html\"\n",
    "\n",
    "client_id = \"GranularConnect2021Scenario2\"\n",
    "\n",
    "authorization_redirect_url = \"{}?client_id={}&response_type=code&redirect_uri={}\".format(authorize_url, \n",
    "                                                                                                  client_id, \n",
    "                                                                                                  redirect_uri)\n",
    "    \n",
    "print(\"Navigate to: \", authorization_redirect_url + \"\\n\")\n",
    "\n",
    "authorization_code = input('authz code: ')\n",
    "\n",
    "headers = {'Content-Type': 'application/x-www-form-urlencoded', 'Accept': 'application/json'}\n",
    "data = {'grant_type': 'authorization_code', 'code': authorization_code, 'redirect_uri': redirect_uri, 'client_id': client_id}\n",
    "access_token_response = requests.post(token_url, data=data, headers=headers)\n",
    "\n",
    "print(\"\\nScopes Granted: \" + access_token_response.json()['scope'])"
   ]
  }
 ],
 "metadata": {
  "kernelspec": {
   "display_name": "Python 3",
   "language": "python",
   "name": "python3"
  },
  "language_info": {
   "codemirror_mode": {
    "name": "ipython",
    "version": 3
   },
   "file_extension": ".py",
   "mimetype": "text/x-python",
   "name": "python",
   "nbconvert_exporter": "python",
   "pygments_lexer": "ipython3",
   "version": "3.8.0"
  }
 },
 "nbformat": 4,
 "nbformat_minor": 2
}
